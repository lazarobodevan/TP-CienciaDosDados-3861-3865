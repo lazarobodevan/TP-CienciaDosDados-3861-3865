{
  "cells": [
    {
      "cell_type": "markdown",
      "metadata": {
        "id": "U5D8cHJ6iRMh"
      },
      "source": [
        "\n",
        "\n",
        "# **Introdução**\n",
        "\n",
        "O presente projeto tem por objetivo a realização de um estudo sobre saúde e medicamentos no Brasil. Para tal, serão utilizadas bases de dados fornecidas por sites do governo federal, além dos conhecimentos adquiridos na disciplina de Introdução a Ciência dos Dados.\n",
        "\n",
        "#**Tipo de produtos:**\n",
        "\n",
        "Na tabela analisada neste projeto, possui os seguintes tipos de medicamento.\n",
        " \n",
        "\n",
        "*   **Medicamento biológico** – aquele que contém molécula com atividade biológica conhecida e que tenha passado por todas as etapas de fabricação – formulação, envase, liofilização, rotulagem, embalagem, armazenamento, controle de qualidade e liberação do lote de produto biológico para uso (RDC nº 55, de 16 de dezembro de 2010).\t\t\t\t\t\t\t\t\t\n",
        "\n",
        "*   **Medicamento com princípios ativos sintéticos e semissintéticos** – Ao contrário dos medicamentos biológicos, sua molécula é sintética ou semissintética. Produto farmacêutico, tecnicamente obtido ou elaborado, com finalidade profilática, curativa, paliativa ou para fins de diagnóstico. Pode ser classificado como novo, genérico ou similar (RDC nº 60, de 10 de outubro de 2014).\t\n",
        "\n",
        "*    **Medicamento genérico** – medicamento similar a um produto de referência ou inovador, que se pretende que seja intercambiável com este, geralmente produzido após a expiração ou renúncia da proteção patentária ou de outros direitos de exclusividade, comprovada a sua eficácia, segurança e qualidade, e designado pela Denominação Comum Brasileira - DCB ou, na sua ausência, pela Denominação Comum Internacional - DCI (Lei nº 9.787, de 10 de fevereiro de 1999).\n",
        "\n",
        "*    **Medicamento similar** – aquele que contém o mesmo ou os mesmos princípios ativos, que apresenta a mesma concentração, forma farmacêutica, via de administração, posologia e indicação terapêutica, e que é equivalente ao medicamento registrado no órgão federal responsável pela vigilância sanitária, podendo diferir somente em características relativas ao tamanho e à forma do produto, ao prazo de validade, à embalagem, à rotulagem, aos excipientes e aos veículos, devendo sempre ser identificado pelo nome comercial ou marca (Lei nº 9.787, de 10 de fevereiro de 1999).\t\t\t\t\t\t\t\t\t\n",
        "\t\t\t\t\t\t\t\t\t\n",
        "*   **Medicamento específico** – produto farmacêutico, tecnicamente obtido ou elaborado, com finalidade profilática, curativa ou paliativa, não enquadrado nas categorias de medicamento novo, genérico, similar, biológico, fitoterápico ou notificado e cuja(s) substância(s) ativa(s), independentemente da sua natureza ou origem, não é(são) passível(passíveis) de ensaio de bioequivalência frente a um produto comparador (RDC nº 24, de 14 de junho de 2011).\t\t\t\t\t\t\n",
        "\t\t\t\t\t\t\t\t\t\n",
        "*    **Medicamento fitoterápico** – obtidos com emprego exclusivo de matérias-primas ativas vegetais. Não se considera medicamento fitoterápico aquele que inclui na sua composição substâncias ativas isoladas, sintéticas ou naturais, nem as associações dessas com extratos vegetais.\t\t\t\t\t\t\t\t\t\n",
        "\n"
      ]
    },
    {
      "cell_type": "markdown",
      "source": [
        "o Preço Máximo ao Consumidor (PMC), que é o preço a ser\n",
        "praticado pelo comércio varejista de medicamentos, ou seja, farmácias e drogarias, tendo em\n",
        "vista que este contempla tanto a margem de lucro como os impostos inerentes a esses tipos de\n",
        "comércio.\n"
      ],
      "metadata": {
        "id": "vMcl6Cx7KX2a"
      }
    },
    {
      "cell_type": "markdown",
      "metadata": {
        "id": "pbjvnGl4izm5"
      },
      "source": [
        "# **Tratamento inicial dos dados**\n",
        "\n",
        "A seguir, serão tratados os dados obtidos pelos datasets selecionados a fim de facilitar e tornar viável o estudo.<br/>"
      ]
    },
    {
      "cell_type": "code",
      "execution_count": 1,
      "metadata": {
        "id": "FkOY9X11jGMY"
      },
      "outputs": [],
      "source": [
        "import pandas as pd\n",
        "import numpy as np\n",
        "import matplotlib.pyplot as plt\n",
        "import seaborn as sns"
      ]
    },
    {
      "cell_type": "code",
      "execution_count": 2,
      "metadata": {
        "colab": {
          "base_uri": "https://localhost:8080/"
        },
        "id": "ANvSR2rg8Ihm",
        "outputId": "2ae2686a-f225-4c21-c053-8485a97ac30b"
      },
      "outputs": [
        {
          "output_type": "stream",
          "name": "stdout",
          "text": [
            "Mounted at /content/drive\n"
          ]
        }
      ],
      "source": [
        "from google.colab import drive\n",
        "drive.mount('/content/drive')"
      ]
    },
    {
      "cell_type": "markdown",
      "metadata": {
        "id": "Uf2QSG4mk7VN"
      },
      "source": [
        "Inicialmente, lemos as duas bases de dados obtidas."
      ]
    },
    {
      "cell_type": "code",
      "source": [
        "#Dataset simples\n",
        "!wget https://raw.githubusercontent.com/lazarobodevan/TP-CienciaDosDados-3861-3865-3871/main/DADOS_ABERTOS_MEDICAMENTOS.csv\n",
        "\n",
        "#Dataset com tajas\n",
        "!wget https://github.com/lazarobodevan/TP-CienciaDosDados-3861-3865-3871/blob/main/medTarja.xls"
      ],
      "metadata": {
        "colab": {
          "base_uri": "https://localhost:8080/"
        },
        "id": "tWPnUUl8oKGD",
        "outputId": "01419094-c10e-4409-b40c-217de1eb27d6"
      },
      "execution_count": 3,
      "outputs": [
        {
          "output_type": "stream",
          "name": "stdout",
          "text": [
            "--2022-07-26 11:57:55--  https://raw.githubusercontent.com/lazarobodevan/TP-CienciaDosDados-3861-3865-3871/main/DADOS_ABERTOS_MEDICAMENTOS.csv\n",
            "Resolving raw.githubusercontent.com (raw.githubusercontent.com)... 185.199.111.133, 185.199.110.133, 185.199.108.133, ...\n",
            "Connecting to raw.githubusercontent.com (raw.githubusercontent.com)|185.199.111.133|:443... connected.\n",
            "HTTP request sent, awaiting response... 200 OK\n",
            "Length: 5903386 (5.6M) [text/plain]\n",
            "Saving to: ‘DADOS_ABERTOS_MEDICAMENTOS.csv’\n",
            "\n",
            "DADOS_ABERTOS_MEDIC 100%[===================>]   5.63M  --.-KB/s    in 0.03s   \n",
            "\n",
            "2022-07-26 11:57:55 (223 MB/s) - ‘DADOS_ABERTOS_MEDICAMENTOS.csv’ saved [5903386/5903386]\n",
            "\n",
            "--2022-07-26 11:57:55--  https://github.com/lazarobodevan/TP-CienciaDosDados-3861-3865-3871/blob/main/medTarja.xls\n",
            "Resolving github.com (github.com)... 140.82.121.3\n",
            "Connecting to github.com (github.com)|140.82.121.3|:443... connected.\n",
            "HTTP request sent, awaiting response... 200 OK\n",
            "Length: unspecified [text/html]\n",
            "Saving to: ‘medTarja.xls’\n",
            "\n",
            "medTarja.xls            [  <=>               ] 135.46K   513KB/s    in 0.3s    \n",
            "\n",
            "2022-07-26 11:57:56 (513 KB/s) - ‘medTarja.xls’ saved [138707]\n",
            "\n"
          ]
        }
      ]
    },
    {
      "cell_type": "code",
      "execution_count": 4,
      "metadata": {
        "colab": {
          "base_uri": "https://localhost:8080/",
          "height": 869
        },
        "id": "oAfX0m7ulCon",
        "outputId": "d767524e-2b6f-435b-dddb-4f8ba9c5cca6"
      },
      "outputs": [
        {
          "output_type": "execute_result",
          "data": {
            "text/plain": [
              "      TIPO_PRODUTO                         NOME_PRODUTO  \\\n",
              "0      MEDICAMENTO      (VITAMINAS A )  +  ASSSOCIACÕES   \n",
              "1      MEDICAMENTO   AC SALICILICO + AC BENZOICO + IODO   \n",
              "2      MEDICAMENTO                   ALENDRONATO SODICO   \n",
              "3      MEDICAMENTO                       ARNICA MONTANA   \n",
              "4      MEDICAMENTO                    ARNICA MONTANA L.   \n",
              "...            ...                                  ...   \n",
              "29715  MEDICAMENTO                           nimesulida   \n",
              "29716  MEDICAMENTO  pantoprazol sódico sesqui-hidratado   \n",
              "29717  MEDICAMENTO                paracetamol + cafeína   \n",
              "29718  MEDICAMENTO                         prednisolona   \n",
              "29719  MEDICAMENTO      ácido clavulânico + amoxicilina   \n",
              "\n",
              "      DATA_FINALIZACAO_PROCESSO CATEGORIA_REGULATORIA  \\\n",
              "0                    25/04/2000               SIMILAR   \n",
              "1                    19/05/2000               SIMILAR   \n",
              "2                    04/06/2001               SIMILAR   \n",
              "3                    19/03/2002          FITOTERÁPICO   \n",
              "4                    01/07/2002          FITOTERÁPICO   \n",
              "...                         ...                   ...   \n",
              "29715                       NaN              GENÉRICO   \n",
              "29716                       NaN              GENÉRICO   \n",
              "29717                       NaN              GENÉRICO   \n",
              "29718                       NaN              GENÉRICO   \n",
              "29719                       NaN              GENÉRICO   \n",
              "\n",
              "       NUMERO_REGISTRO_PRODUTO DATA_VENCIMENTO_REGISTRO  NUMERO_PROCESSO  \\\n",
              "0                    104540166               01/04/2005      25000025416   \n",
              "1                    119350001               01/05/2005      25010171858   \n",
              "2                    100470305               01/05/2006      25351022805   \n",
              "3                    104730021               01/03/2007      25025007821   \n",
              "4                    131750004               01/06/2007      25351032631   \n",
              "...                        ...                      ...              ...   \n",
              "29715                177940051               01/06/2032      25351222835   \n",
              "29716                100431438               01/06/2032      25351538852   \n",
              "29717                177940052               01/06/2032      25351239745   \n",
              "29718                155840631               01/06/2032      25351544442   \n",
              "29719                116370180               01/06/2032      25351540688   \n",
              "\n",
              "                                      CLASSE_TERAPEUTICA  \\\n",
              "0                       VITAMINAS E SUPLEMENTOS MINERAIS   \n",
              "1                          ANTIMICOTICOS PARA USO TOPICO   \n",
              "2                        SUPRESSORES DA REABSORCAO OSSEA   \n",
              "3                                   FITOTERAPICO SIMPLES   \n",
              "4                                   FITOTERAPICO SIMPLES   \n",
              "...                                                  ...   \n",
              "29715                         AGENTES ANTI-INFLAMATÓRIOS   \n",
              "29716                         ANTIACIDOS E ANTIULCEROSOS   \n",
              "29717                         ANALGESICOS NAO NARCOTICOS   \n",
              "29718                        GLICOCORTICOIDES SISTEMICOS   \n",
              "29719  ANTIBIOTICOS SISTEMICOS-ASSOCIACOES MEDICAMENT...   \n",
              "\n",
              "                              EMPRESA_DETENTORA_REGISTRO SITUACAO_REGISTRO  \\\n",
              "0      60874187000184 - DAIICHI SANKYO BRASIL FARMACÊ...  CADUCO/CANCELADO   \n",
              "1      63826069000199 - LABORATORIO FLORA DA AMAZONIA...  CADUCO/CANCELADO   \n",
              "2      61286647000116 - SANDOZ DO BRASIL INDÚSTRIA FA...  CADUCO/CANCELADO   \n",
              "3              92762277000170 - VIDORA FARMACÊUTICA LTDA  CADUCO/CANCELADO   \n",
              "4      00925697000101 - LIMED LABORATORIO INDUSTRIAL ...  CADUCO/CANCELADO   \n",
              "...                                                  ...               ...   \n",
              "29715           09545589000188 - MABRA FARMACEUTICA LTDA            VÁLIDO   \n",
              "29716       61190096000192 - EUROFARMA LABORATÓRIOS S.A.            VÁLIDO   \n",
              "29717           09545589000188 - MABRA FARMACEUTICA LTDA            VÁLIDO   \n",
              "29718  05161069000110 - BRAINFARMA INDÚSTRIA QUÍMICA ...            VÁLIDO   \n",
              "29719            58430828000160 - BLAU FARMACÊUTICA S.A.            VÁLIDO   \n",
              "\n",
              "                                      PRINCIPIO_ATIVO  \n",
              "0                                                 NaN  \n",
              "1                                                 NaN  \n",
              "2                                                 NaN  \n",
              "3                                                 NaN  \n",
              "4                                                 NaN  \n",
              "...                                               ...  \n",
              "29715                                      NIMESULIDA  \n",
              "29716             PANTOPRAZOL SÓDICO SESQUI-HIDRATADO  \n",
              "29717                   CAFEÍNA ANIDRA +  PARACETAMOL  \n",
              "29718  FOSFATO SÓDICO DE PREDNISOLONA +  PREDNISOLONA  \n",
              "29719   AMOXICILINA SÓDICA +  CLAVULANATO DE POTÁSSIO  \n",
              "\n",
              "[29720 rows x 11 columns]"
            ],
            "text/html": [
              "\n",
              "  <div id=\"df-99582c79-c5b1-4028-995b-823191a39495\">\n",
              "    <div class=\"colab-df-container\">\n",
              "      <div>\n",
              "<style scoped>\n",
              "    .dataframe tbody tr th:only-of-type {\n",
              "        vertical-align: middle;\n",
              "    }\n",
              "\n",
              "    .dataframe tbody tr th {\n",
              "        vertical-align: top;\n",
              "    }\n",
              "\n",
              "    .dataframe thead th {\n",
              "        text-align: right;\n",
              "    }\n",
              "</style>\n",
              "<table border=\"1\" class=\"dataframe\">\n",
              "  <thead>\n",
              "    <tr style=\"text-align: right;\">\n",
              "      <th></th>\n",
              "      <th>TIPO_PRODUTO</th>\n",
              "      <th>NOME_PRODUTO</th>\n",
              "      <th>DATA_FINALIZACAO_PROCESSO</th>\n",
              "      <th>CATEGORIA_REGULATORIA</th>\n",
              "      <th>NUMERO_REGISTRO_PRODUTO</th>\n",
              "      <th>DATA_VENCIMENTO_REGISTRO</th>\n",
              "      <th>NUMERO_PROCESSO</th>\n",
              "      <th>CLASSE_TERAPEUTICA</th>\n",
              "      <th>EMPRESA_DETENTORA_REGISTRO</th>\n",
              "      <th>SITUACAO_REGISTRO</th>\n",
              "      <th>PRINCIPIO_ATIVO</th>\n",
              "    </tr>\n",
              "  </thead>\n",
              "  <tbody>\n",
              "    <tr>\n",
              "      <th>0</th>\n",
              "      <td>MEDICAMENTO</td>\n",
              "      <td>(VITAMINAS A )  +  ASSSOCIACÕES</td>\n",
              "      <td>25/04/2000</td>\n",
              "      <td>SIMILAR</td>\n",
              "      <td>104540166</td>\n",
              "      <td>01/04/2005</td>\n",
              "      <td>25000025416</td>\n",
              "      <td>VITAMINAS E SUPLEMENTOS MINERAIS</td>\n",
              "      <td>60874187000184 - DAIICHI SANKYO BRASIL FARMACÊ...</td>\n",
              "      <td>CADUCO/CANCELADO</td>\n",
              "      <td>NaN</td>\n",
              "    </tr>\n",
              "    <tr>\n",
              "      <th>1</th>\n",
              "      <td>MEDICAMENTO</td>\n",
              "      <td>AC SALICILICO + AC BENZOICO + IODO</td>\n",
              "      <td>19/05/2000</td>\n",
              "      <td>SIMILAR</td>\n",
              "      <td>119350001</td>\n",
              "      <td>01/05/2005</td>\n",
              "      <td>25010171858</td>\n",
              "      <td>ANTIMICOTICOS PARA USO TOPICO</td>\n",
              "      <td>63826069000199 - LABORATORIO FLORA DA AMAZONIA...</td>\n",
              "      <td>CADUCO/CANCELADO</td>\n",
              "      <td>NaN</td>\n",
              "    </tr>\n",
              "    <tr>\n",
              "      <th>2</th>\n",
              "      <td>MEDICAMENTO</td>\n",
              "      <td>ALENDRONATO SODICO</td>\n",
              "      <td>04/06/2001</td>\n",
              "      <td>SIMILAR</td>\n",
              "      <td>100470305</td>\n",
              "      <td>01/05/2006</td>\n",
              "      <td>25351022805</td>\n",
              "      <td>SUPRESSORES DA REABSORCAO OSSEA</td>\n",
              "      <td>61286647000116 - SANDOZ DO BRASIL INDÚSTRIA FA...</td>\n",
              "      <td>CADUCO/CANCELADO</td>\n",
              "      <td>NaN</td>\n",
              "    </tr>\n",
              "    <tr>\n",
              "      <th>3</th>\n",
              "      <td>MEDICAMENTO</td>\n",
              "      <td>ARNICA MONTANA</td>\n",
              "      <td>19/03/2002</td>\n",
              "      <td>FITOTERÁPICO</td>\n",
              "      <td>104730021</td>\n",
              "      <td>01/03/2007</td>\n",
              "      <td>25025007821</td>\n",
              "      <td>FITOTERAPICO SIMPLES</td>\n",
              "      <td>92762277000170 - VIDORA FARMACÊUTICA LTDA</td>\n",
              "      <td>CADUCO/CANCELADO</td>\n",
              "      <td>NaN</td>\n",
              "    </tr>\n",
              "    <tr>\n",
              "      <th>4</th>\n",
              "      <td>MEDICAMENTO</td>\n",
              "      <td>ARNICA MONTANA L.</td>\n",
              "      <td>01/07/2002</td>\n",
              "      <td>FITOTERÁPICO</td>\n",
              "      <td>131750004</td>\n",
              "      <td>01/06/2007</td>\n",
              "      <td>25351032631</td>\n",
              "      <td>FITOTERAPICO SIMPLES</td>\n",
              "      <td>00925697000101 - LIMED LABORATORIO INDUSTRIAL ...</td>\n",
              "      <td>CADUCO/CANCELADO</td>\n",
              "      <td>NaN</td>\n",
              "    </tr>\n",
              "    <tr>\n",
              "      <th>...</th>\n",
              "      <td>...</td>\n",
              "      <td>...</td>\n",
              "      <td>...</td>\n",
              "      <td>...</td>\n",
              "      <td>...</td>\n",
              "      <td>...</td>\n",
              "      <td>...</td>\n",
              "      <td>...</td>\n",
              "      <td>...</td>\n",
              "      <td>...</td>\n",
              "      <td>...</td>\n",
              "    </tr>\n",
              "    <tr>\n",
              "      <th>29715</th>\n",
              "      <td>MEDICAMENTO</td>\n",
              "      <td>nimesulida</td>\n",
              "      <td>NaN</td>\n",
              "      <td>GENÉRICO</td>\n",
              "      <td>177940051</td>\n",
              "      <td>01/06/2032</td>\n",
              "      <td>25351222835</td>\n",
              "      <td>AGENTES ANTI-INFLAMATÓRIOS</td>\n",
              "      <td>09545589000188 - MABRA FARMACEUTICA LTDA</td>\n",
              "      <td>VÁLIDO</td>\n",
              "      <td>NIMESULIDA</td>\n",
              "    </tr>\n",
              "    <tr>\n",
              "      <th>29716</th>\n",
              "      <td>MEDICAMENTO</td>\n",
              "      <td>pantoprazol sódico sesqui-hidratado</td>\n",
              "      <td>NaN</td>\n",
              "      <td>GENÉRICO</td>\n",
              "      <td>100431438</td>\n",
              "      <td>01/06/2032</td>\n",
              "      <td>25351538852</td>\n",
              "      <td>ANTIACIDOS E ANTIULCEROSOS</td>\n",
              "      <td>61190096000192 - EUROFARMA LABORATÓRIOS S.A.</td>\n",
              "      <td>VÁLIDO</td>\n",
              "      <td>PANTOPRAZOL SÓDICO SESQUI-HIDRATADO</td>\n",
              "    </tr>\n",
              "    <tr>\n",
              "      <th>29717</th>\n",
              "      <td>MEDICAMENTO</td>\n",
              "      <td>paracetamol + cafeína</td>\n",
              "      <td>NaN</td>\n",
              "      <td>GENÉRICO</td>\n",
              "      <td>177940052</td>\n",
              "      <td>01/06/2032</td>\n",
              "      <td>25351239745</td>\n",
              "      <td>ANALGESICOS NAO NARCOTICOS</td>\n",
              "      <td>09545589000188 - MABRA FARMACEUTICA LTDA</td>\n",
              "      <td>VÁLIDO</td>\n",
              "      <td>CAFEÍNA ANIDRA +  PARACETAMOL</td>\n",
              "    </tr>\n",
              "    <tr>\n",
              "      <th>29718</th>\n",
              "      <td>MEDICAMENTO</td>\n",
              "      <td>prednisolona</td>\n",
              "      <td>NaN</td>\n",
              "      <td>GENÉRICO</td>\n",
              "      <td>155840631</td>\n",
              "      <td>01/06/2032</td>\n",
              "      <td>25351544442</td>\n",
              "      <td>GLICOCORTICOIDES SISTEMICOS</td>\n",
              "      <td>05161069000110 - BRAINFARMA INDÚSTRIA QUÍMICA ...</td>\n",
              "      <td>VÁLIDO</td>\n",
              "      <td>FOSFATO SÓDICO DE PREDNISOLONA +  PREDNISOLONA</td>\n",
              "    </tr>\n",
              "    <tr>\n",
              "      <th>29719</th>\n",
              "      <td>MEDICAMENTO</td>\n",
              "      <td>ácido clavulânico + amoxicilina</td>\n",
              "      <td>NaN</td>\n",
              "      <td>GENÉRICO</td>\n",
              "      <td>116370180</td>\n",
              "      <td>01/06/2032</td>\n",
              "      <td>25351540688</td>\n",
              "      <td>ANTIBIOTICOS SISTEMICOS-ASSOCIACOES MEDICAMENT...</td>\n",
              "      <td>58430828000160 - BLAU FARMACÊUTICA S.A.</td>\n",
              "      <td>VÁLIDO</td>\n",
              "      <td>AMOXICILINA SÓDICA +  CLAVULANATO DE POTÁSSIO</td>\n",
              "    </tr>\n",
              "  </tbody>\n",
              "</table>\n",
              "<p>29720 rows × 11 columns</p>\n",
              "</div>\n",
              "      <button class=\"colab-df-convert\" onclick=\"convertToInteractive('df-99582c79-c5b1-4028-995b-823191a39495')\"\n",
              "              title=\"Convert this dataframe to an interactive table.\"\n",
              "              style=\"display:none;\">\n",
              "        \n",
              "  <svg xmlns=\"http://www.w3.org/2000/svg\" height=\"24px\"viewBox=\"0 0 24 24\"\n",
              "       width=\"24px\">\n",
              "    <path d=\"M0 0h24v24H0V0z\" fill=\"none\"/>\n",
              "    <path d=\"M18.56 5.44l.94 2.06.94-2.06 2.06-.94-2.06-.94-.94-2.06-.94 2.06-2.06.94zm-11 1L8.5 8.5l.94-2.06 2.06-.94-2.06-.94L8.5 2.5l-.94 2.06-2.06.94zm10 10l.94 2.06.94-2.06 2.06-.94-2.06-.94-.94-2.06-.94 2.06-2.06.94z\"/><path d=\"M17.41 7.96l-1.37-1.37c-.4-.4-.92-.59-1.43-.59-.52 0-1.04.2-1.43.59L10.3 9.45l-7.72 7.72c-.78.78-.78 2.05 0 2.83L4 21.41c.39.39.9.59 1.41.59.51 0 1.02-.2 1.41-.59l7.78-7.78 2.81-2.81c.8-.78.8-2.07 0-2.86zM5.41 20L4 18.59l7.72-7.72 1.47 1.35L5.41 20z\"/>\n",
              "  </svg>\n",
              "      </button>\n",
              "      \n",
              "  <style>\n",
              "    .colab-df-container {\n",
              "      display:flex;\n",
              "      flex-wrap:wrap;\n",
              "      gap: 12px;\n",
              "    }\n",
              "\n",
              "    .colab-df-convert {\n",
              "      background-color: #E8F0FE;\n",
              "      border: none;\n",
              "      border-radius: 50%;\n",
              "      cursor: pointer;\n",
              "      display: none;\n",
              "      fill: #1967D2;\n",
              "      height: 32px;\n",
              "      padding: 0 0 0 0;\n",
              "      width: 32px;\n",
              "    }\n",
              "\n",
              "    .colab-df-convert:hover {\n",
              "      background-color: #E2EBFA;\n",
              "      box-shadow: 0px 1px 2px rgba(60, 64, 67, 0.3), 0px 1px 3px 1px rgba(60, 64, 67, 0.15);\n",
              "      fill: #174EA6;\n",
              "    }\n",
              "\n",
              "    [theme=dark] .colab-df-convert {\n",
              "      background-color: #3B4455;\n",
              "      fill: #D2E3FC;\n",
              "    }\n",
              "\n",
              "    [theme=dark] .colab-df-convert:hover {\n",
              "      background-color: #434B5C;\n",
              "      box-shadow: 0px 1px 3px 1px rgba(0, 0, 0, 0.15);\n",
              "      filter: drop-shadow(0px 1px 2px rgba(0, 0, 0, 0.3));\n",
              "      fill: #FFFFFF;\n",
              "    }\n",
              "  </style>\n",
              "\n",
              "      <script>\n",
              "        const buttonEl =\n",
              "          document.querySelector('#df-99582c79-c5b1-4028-995b-823191a39495 button.colab-df-convert');\n",
              "        buttonEl.style.display =\n",
              "          google.colab.kernel.accessAllowed ? 'block' : 'none';\n",
              "\n",
              "        async function convertToInteractive(key) {\n",
              "          const element = document.querySelector('#df-99582c79-c5b1-4028-995b-823191a39495');\n",
              "          const dataTable =\n",
              "            await google.colab.kernel.invokeFunction('convertToInteractive',\n",
              "                                                     [key], {});\n",
              "          if (!dataTable) return;\n",
              "\n",
              "          const docLinkHtml = 'Like what you see? Visit the ' +\n",
              "            '<a target=\"_blank\" href=https://colab.research.google.com/notebooks/data_table.ipynb>data table notebook</a>'\n",
              "            + ' to learn more about interactive tables.';\n",
              "          element.innerHTML = '';\n",
              "          dataTable['output_type'] = 'display_data';\n",
              "          await google.colab.output.renderOutput(dataTable, element);\n",
              "          const docLink = document.createElement('div');\n",
              "          docLink.innerHTML = docLinkHtml;\n",
              "          element.appendChild(docLink);\n",
              "        }\n",
              "      </script>\n",
              "    </div>\n",
              "  </div>\n",
              "  "
            ]
          },
          "metadata": {},
          "execution_count": 4
        }
      ],
      "source": [
        "datasetMedCons = pd.read_csv(\"/content/DADOS_ABERTOS_MEDICAMENTOS.csv\", encoding='iso8859-1', sep = ';', on_bad_lines='skip')\n",
        "datasetMedCons"
      ]
    },
    {
      "cell_type": "code",
      "execution_count": 5,
      "metadata": {
        "colab": {
          "base_uri": "https://localhost:8080/"
        },
        "id": "x7knmQIFsKXd",
        "outputId": "3d1ef869-a9e3-4343-850f-08c6cc142f94"
      },
      "outputs": [
        {
          "output_type": "stream",
          "name": "stdout",
          "text": [
            "Looking in indexes: https://pypi.org/simple, https://us-python.pkg.dev/colab-wheels/public/simple/\n",
            "Collecting xlrd==1.2.0\n",
            "  Downloading xlrd-1.2.0-py2.py3-none-any.whl (103 kB)\n",
            "\u001b[K     |████████████████████████████████| 103 kB 18.9 MB/s \n",
            "\u001b[?25hInstalling collected packages: xlrd\n",
            "  Attempting uninstall: xlrd\n",
            "    Found existing installation: xlrd 1.1.0\n",
            "    Uninstalling xlrd-1.1.0:\n",
            "      Successfully uninstalled xlrd-1.1.0\n",
            "Successfully installed xlrd-1.2.0\n"
          ]
        }
      ],
      "source": [
        "pip install xlrd==1.2.0"
      ]
    },
    {
      "cell_type": "code",
      "execution_count": 6,
      "metadata": {
        "colab": {
          "base_uri": "https://localhost:8080/",
          "height": 1000
        },
        "id": "1HsIYrP9oM7L",
        "outputId": "9ad028a3-7705-4b89-b119-d24bf9d9f05d"
      },
      "outputs": [
        {
          "output_type": "execute_result",
          "data": {
            "text/plain": [
              "                              SUBSTÂNCIA                CNPJ  \\\n",
              "0                      CEFALOTINA SODICA  04.301.884/0001-75   \n",
              "1                      CEFAZOLINA SÓDICA  04.301.884/0001-75   \n",
              "2                      CEFOTAXIMA SÓDICA  04.301.884/0001-75   \n",
              "3           CLORIDRATO DE CIPROFLOXACINO  04.301.884/0001-75   \n",
              "4                CEFALEXINA MONOIDRATADA  04.301.884/0001-75   \n",
              "...                                  ...                 ...   \n",
              "27192  ACETATO DE RETINOL;COLECALCIFEROL  92.265.552/0001-40   \n",
              "27193            ACETATO DE DEXAMETASONA  92.265.552/0001-40   \n",
              "27194            ACETATO DE DEXAMETASONA  92.265.552/0001-40   \n",
              "27195            ACETATO DE DEXAMETASONA  92.265.552/0001-40   \n",
              "27196            ACETATO DE DEXAMETASONA  92.265.552/0001-40   \n",
              "\n",
              "                                             LABORATÓRIO     CÓDIGO GGREM  \\\n",
              "0       AUROBINDO PHARMA INDÚSTRIA FARMACÊUTICA LIMITADA  500100106155118   \n",
              "1       AUROBINDO PHARMA INDÚSTRIA FARMACÊUTICA LIMITADA  500100204157115   \n",
              "2       AUROBINDO PHARMA INDÚSTRIA FARMACÊUTICA LIMITADA  500100310151117   \n",
              "3       AUROBINDO PHARMA INDÚSTRIA FARMACÊUTICA LIMITADA  500100410113111   \n",
              "4       AUROBINDO PHARMA INDÚSTRIA FARMACÊUTICA LIMITADA  500100801112111   \n",
              "...                                                  ...              ...   \n",
              "27192  MULTILAB INDÚSTRIA E COMÉRCIO DE PRODUTOS FARM...  525917060050504   \n",
              "27193  MULTILAB INDÚSTRIA E COMÉRCIO DE PRODUTOS FARM...  525921120068107   \n",
              "27194  MULTILAB INDÚSTRIA E COMÉRCIO DE PRODUTOS FARM...  525921120067907   \n",
              "27195  MULTILAB INDÚSTRIA E COMÉRCIO DE PRODUTOS FARM...  525922030071603   \n",
              "27196  MULTILAB INDÚSTRIA E COMÉRCIO DE PRODUTOS FARM...  525922030071703   \n",
              "\n",
              "            REGISTRO          EAN 1          EAN 2       EAN 3  \\\n",
              "0      1516700060050  7898361881450         -           -        \n",
              "1      1516700030038  7898361881405         -           -        \n",
              "2      1516700050063  7898361881412         -           -        \n",
              "3      1516700070099  7898361881313         -           -        \n",
              "4      1516700080035  7898361880019         -           -        \n",
              "...              ...            ...            ...         ...   \n",
              "27192  1181901840031  7896472518821         -           -        \n",
              "27193  1181902220010  7896472503599  7895296449267      -        \n",
              "27194  1181902240011  7896472502110  7896004782560      -        \n",
              "27195  1181902240021  7896004782225         -           -        \n",
              "27196  1181902240038  7896004782232         -           -        \n",
              "\n",
              "                            PRODUTO  \\\n",
              "0                 CEFALOTINA SÓDICA   \n",
              "1                 CEFAZOLINA SÓDICA   \n",
              "2                 CEFOTAXIMA SÓDICA   \n",
              "3      CLORIDRATO DE CIPROFLOXACINO   \n",
              "4                        CEFALEXINA   \n",
              "...                             ...   \n",
              "27192                       METOSAD   \n",
              "27193       ACETATO DE DEXAMETASONA   \n",
              "27194                      CORTITOP   \n",
              "27195                      CORTITOP   \n",
              "27196                      CORTITOP   \n",
              "\n",
              "                                            APRESENTAÇÃO  ... PMC 18% ALC  \\\n",
              "0                        1G PO SOL INJ CT 50 FA VD TRANS  ...         NaN   \n",
              "1                       1 G PO SOL INJ CT 50 FA VD TRANS  ...         NaN   \n",
              "2                       1 G PO SOL INJ CT 50 FA VD TRANS  ...         NaN   \n",
              "3              500 MG COM REV CT 2 BL AL PLAS TRANS X 07  ...       46,26   \n",
              "4           500 MG COM REV CT BL AL PVC/PVDC TRANS X 8    ...       20,97   \n",
              "...                                                  ...  ...         ...   \n",
              "27192  50000 + 10000 UI/ML SOL OR CT FR PLAS AMB GOT ...  ...       27,91   \n",
              "27193                 1 MG/G CREM DERM CT BG AL X 10 G    ...       12,30   \n",
              "27194                 1 MG/G CREM DERM CT BG AL X 10 G    ...       19,05   \n",
              "27195                   1 MG/G CREM DERM CT BG AL X 20 G  ...       37,92   \n",
              "27196                   1 MG/G CREM DERM CT BG AL X 30 G  ...       56,86   \n",
              "\n",
              "      PMC 20% RESTRIÇÃO HOSPITALAR  CAP CONFAZ 87 ICMS 0% ANÁLISE RECURSAL  \\\n",
              "0         NaN                  Sim  Não       Não     Não              NaN   \n",
              "1         NaN                  Sim  Não       Não     Não              NaN   \n",
              "2         NaN                  Sim  Não       Não     Não              NaN   \n",
              "3       47,42                  Não  Não       Sim     Não              NaN   \n",
              "4       21,50                  Não  Não       Não     Não              NaN   \n",
              "...       ...                  ...  ...       ...     ...              ...   \n",
              "27192   31,83                  Não  Não       Não     Não              NaN   \n",
              "27193   12,62                  Não  Não       Não     Não              NaN   \n",
              "27194   19,53                  Não  Não       Não     Não              NaN   \n",
              "27195   38,86                  Não  Não       Não     Não              NaN   \n",
              "27196   58,28                  Não  Não       Não     Não              NaN   \n",
              "\n",
              "      LISTA DE CONCESSÃO DE CRÉDITO TRIBUTÁRIO (PIS/COFINS)  \\\n",
              "0                                               Positiva      \n",
              "1                                               Positiva      \n",
              "2                                               Positiva      \n",
              "3                                               Positiva      \n",
              "4                                               Positiva      \n",
              "...                                                  ...      \n",
              "27192                                           Negativa      \n",
              "27193                                           Positiva      \n",
              "27194                                           Positiva      \n",
              "27195                                           Positiva      \n",
              "27196                                           Positiva      \n",
              "\n",
              "      COMERCIALIZAÇÃO 2020               TARJA  \n",
              "0                      Sim  Tarja Vermelha (*)  \n",
              "1                      Sim  Tarja Vermelha (*)  \n",
              "2                      Sim  Tarja Vermelha (*)  \n",
              "3                      Não  Tarja Vermelha (*)  \n",
              "4                      Sim  Tarja Vermelha (*)  \n",
              "...                    ...                 ...  \n",
              "27192                  Não              - (*)   \n",
              "27193                  Não              - (*)   \n",
              "27194                  Não              - (*)   \n",
              "27195                  Não              - (*)   \n",
              "27196                  Não              - (*)   \n",
              "\n",
              "[27197 rows x 40 columns]"
            ],
            "text/html": [
              "\n",
              "  <div id=\"df-8d02eafd-87e3-4e63-98e0-f7d80ccc409e\">\n",
              "    <div class=\"colab-df-container\">\n",
              "      <div>\n",
              "<style scoped>\n",
              "    .dataframe tbody tr th:only-of-type {\n",
              "        vertical-align: middle;\n",
              "    }\n",
              "\n",
              "    .dataframe tbody tr th {\n",
              "        vertical-align: top;\n",
              "    }\n",
              "\n",
              "    .dataframe thead th {\n",
              "        text-align: right;\n",
              "    }\n",
              "</style>\n",
              "<table border=\"1\" class=\"dataframe\">\n",
              "  <thead>\n",
              "    <tr style=\"text-align: right;\">\n",
              "      <th></th>\n",
              "      <th>SUBSTÂNCIA</th>\n",
              "      <th>CNPJ</th>\n",
              "      <th>LABORATÓRIO</th>\n",
              "      <th>CÓDIGO GGREM</th>\n",
              "      <th>REGISTRO</th>\n",
              "      <th>EAN 1</th>\n",
              "      <th>EAN 2</th>\n",
              "      <th>EAN 3</th>\n",
              "      <th>PRODUTO</th>\n",
              "      <th>APRESENTAÇÃO</th>\n",
              "      <th>...</th>\n",
              "      <th>PMC 18% ALC</th>\n",
              "      <th>PMC 20%</th>\n",
              "      <th>RESTRIÇÃO HOSPITALAR</th>\n",
              "      <th>CAP</th>\n",
              "      <th>CONFAZ 87</th>\n",
              "      <th>ICMS 0%</th>\n",
              "      <th>ANÁLISE RECURSAL</th>\n",
              "      <th>LISTA DE CONCESSÃO DE CRÉDITO TRIBUTÁRIO (PIS/COFINS)</th>\n",
              "      <th>COMERCIALIZAÇÃO 2020</th>\n",
              "      <th>TARJA</th>\n",
              "    </tr>\n",
              "  </thead>\n",
              "  <tbody>\n",
              "    <tr>\n",
              "      <th>0</th>\n",
              "      <td>CEFALOTINA SODICA</td>\n",
              "      <td>04.301.884/0001-75</td>\n",
              "      <td>AUROBINDO PHARMA INDÚSTRIA FARMACÊUTICA LIMITADA</td>\n",
              "      <td>500100106155118</td>\n",
              "      <td>1516700060050</td>\n",
              "      <td>7898361881450</td>\n",
              "      <td>-</td>\n",
              "      <td>-</td>\n",
              "      <td>CEFALOTINA SÓDICA</td>\n",
              "      <td>1G PO SOL INJ CT 50 FA VD TRANS</td>\n",
              "      <td>...</td>\n",
              "      <td>NaN</td>\n",
              "      <td>NaN</td>\n",
              "      <td>Sim</td>\n",
              "      <td>Não</td>\n",
              "      <td>Não</td>\n",
              "      <td>Não</td>\n",
              "      <td>NaN</td>\n",
              "      <td>Positiva</td>\n",
              "      <td>Sim</td>\n",
              "      <td>Tarja Vermelha (*)</td>\n",
              "    </tr>\n",
              "    <tr>\n",
              "      <th>1</th>\n",
              "      <td>CEFAZOLINA SÓDICA</td>\n",
              "      <td>04.301.884/0001-75</td>\n",
              "      <td>AUROBINDO PHARMA INDÚSTRIA FARMACÊUTICA LIMITADA</td>\n",
              "      <td>500100204157115</td>\n",
              "      <td>1516700030038</td>\n",
              "      <td>7898361881405</td>\n",
              "      <td>-</td>\n",
              "      <td>-</td>\n",
              "      <td>CEFAZOLINA SÓDICA</td>\n",
              "      <td>1 G PO SOL INJ CT 50 FA VD TRANS</td>\n",
              "      <td>...</td>\n",
              "      <td>NaN</td>\n",
              "      <td>NaN</td>\n",
              "      <td>Sim</td>\n",
              "      <td>Não</td>\n",
              "      <td>Não</td>\n",
              "      <td>Não</td>\n",
              "      <td>NaN</td>\n",
              "      <td>Positiva</td>\n",
              "      <td>Sim</td>\n",
              "      <td>Tarja Vermelha (*)</td>\n",
              "    </tr>\n",
              "    <tr>\n",
              "      <th>2</th>\n",
              "      <td>CEFOTAXIMA SÓDICA</td>\n",
              "      <td>04.301.884/0001-75</td>\n",
              "      <td>AUROBINDO PHARMA INDÚSTRIA FARMACÊUTICA LIMITADA</td>\n",
              "      <td>500100310151117</td>\n",
              "      <td>1516700050063</td>\n",
              "      <td>7898361881412</td>\n",
              "      <td>-</td>\n",
              "      <td>-</td>\n",
              "      <td>CEFOTAXIMA SÓDICA</td>\n",
              "      <td>1 G PO SOL INJ CT 50 FA VD TRANS</td>\n",
              "      <td>...</td>\n",
              "      <td>NaN</td>\n",
              "      <td>NaN</td>\n",
              "      <td>Sim</td>\n",
              "      <td>Não</td>\n",
              "      <td>Não</td>\n",
              "      <td>Não</td>\n",
              "      <td>NaN</td>\n",
              "      <td>Positiva</td>\n",
              "      <td>Sim</td>\n",
              "      <td>Tarja Vermelha (*)</td>\n",
              "    </tr>\n",
              "    <tr>\n",
              "      <th>3</th>\n",
              "      <td>CLORIDRATO DE CIPROFLOXACINO</td>\n",
              "      <td>04.301.884/0001-75</td>\n",
              "      <td>AUROBINDO PHARMA INDÚSTRIA FARMACÊUTICA LIMITADA</td>\n",
              "      <td>500100410113111</td>\n",
              "      <td>1516700070099</td>\n",
              "      <td>7898361881313</td>\n",
              "      <td>-</td>\n",
              "      <td>-</td>\n",
              "      <td>CLORIDRATO DE CIPROFLOXACINO</td>\n",
              "      <td>500 MG COM REV CT 2 BL AL PLAS TRANS X 07</td>\n",
              "      <td>...</td>\n",
              "      <td>46,26</td>\n",
              "      <td>47,42</td>\n",
              "      <td>Não</td>\n",
              "      <td>Não</td>\n",
              "      <td>Sim</td>\n",
              "      <td>Não</td>\n",
              "      <td>NaN</td>\n",
              "      <td>Positiva</td>\n",
              "      <td>Não</td>\n",
              "      <td>Tarja Vermelha (*)</td>\n",
              "    </tr>\n",
              "    <tr>\n",
              "      <th>4</th>\n",
              "      <td>CEFALEXINA MONOIDRATADA</td>\n",
              "      <td>04.301.884/0001-75</td>\n",
              "      <td>AUROBINDO PHARMA INDÚSTRIA FARMACÊUTICA LIMITADA</td>\n",
              "      <td>500100801112111</td>\n",
              "      <td>1516700080035</td>\n",
              "      <td>7898361880019</td>\n",
              "      <td>-</td>\n",
              "      <td>-</td>\n",
              "      <td>CEFALEXINA</td>\n",
              "      <td>500 MG COM REV CT BL AL PVC/PVDC TRANS X 8</td>\n",
              "      <td>...</td>\n",
              "      <td>20,97</td>\n",
              "      <td>21,50</td>\n",
              "      <td>Não</td>\n",
              "      <td>Não</td>\n",
              "      <td>Não</td>\n",
              "      <td>Não</td>\n",
              "      <td>NaN</td>\n",
              "      <td>Positiva</td>\n",
              "      <td>Sim</td>\n",
              "      <td>Tarja Vermelha (*)</td>\n",
              "    </tr>\n",
              "    <tr>\n",
              "      <th>...</th>\n",
              "      <td>...</td>\n",
              "      <td>...</td>\n",
              "      <td>...</td>\n",
              "      <td>...</td>\n",
              "      <td>...</td>\n",
              "      <td>...</td>\n",
              "      <td>...</td>\n",
              "      <td>...</td>\n",
              "      <td>...</td>\n",
              "      <td>...</td>\n",
              "      <td>...</td>\n",
              "      <td>...</td>\n",
              "      <td>...</td>\n",
              "      <td>...</td>\n",
              "      <td>...</td>\n",
              "      <td>...</td>\n",
              "      <td>...</td>\n",
              "      <td>...</td>\n",
              "      <td>...</td>\n",
              "      <td>...</td>\n",
              "      <td>...</td>\n",
              "    </tr>\n",
              "    <tr>\n",
              "      <th>27192</th>\n",
              "      <td>ACETATO DE RETINOL;COLECALCIFEROL</td>\n",
              "      <td>92.265.552/0001-40</td>\n",
              "      <td>MULTILAB INDÚSTRIA E COMÉRCIO DE PRODUTOS FARM...</td>\n",
              "      <td>525917060050504</td>\n",
              "      <td>1181901840031</td>\n",
              "      <td>7896472518821</td>\n",
              "      <td>-</td>\n",
              "      <td>-</td>\n",
              "      <td>METOSAD</td>\n",
              "      <td>50000 + 10000 UI/ML SOL OR CT FR PLAS AMB GOT ...</td>\n",
              "      <td>...</td>\n",
              "      <td>27,91</td>\n",
              "      <td>31,83</td>\n",
              "      <td>Não</td>\n",
              "      <td>Não</td>\n",
              "      <td>Não</td>\n",
              "      <td>Não</td>\n",
              "      <td>NaN</td>\n",
              "      <td>Negativa</td>\n",
              "      <td>Não</td>\n",
              "      <td>- (*)</td>\n",
              "    </tr>\n",
              "    <tr>\n",
              "      <th>27193</th>\n",
              "      <td>ACETATO DE DEXAMETASONA</td>\n",
              "      <td>92.265.552/0001-40</td>\n",
              "      <td>MULTILAB INDÚSTRIA E COMÉRCIO DE PRODUTOS FARM...</td>\n",
              "      <td>525921120068107</td>\n",
              "      <td>1181902220010</td>\n",
              "      <td>7896472503599</td>\n",
              "      <td>7895296449267</td>\n",
              "      <td>-</td>\n",
              "      <td>ACETATO DE DEXAMETASONA</td>\n",
              "      <td>1 MG/G CREM DERM CT BG AL X 10 G</td>\n",
              "      <td>...</td>\n",
              "      <td>12,30</td>\n",
              "      <td>12,62</td>\n",
              "      <td>Não</td>\n",
              "      <td>Não</td>\n",
              "      <td>Não</td>\n",
              "      <td>Não</td>\n",
              "      <td>NaN</td>\n",
              "      <td>Positiva</td>\n",
              "      <td>Não</td>\n",
              "      <td>- (*)</td>\n",
              "    </tr>\n",
              "    <tr>\n",
              "      <th>27194</th>\n",
              "      <td>ACETATO DE DEXAMETASONA</td>\n",
              "      <td>92.265.552/0001-40</td>\n",
              "      <td>MULTILAB INDÚSTRIA E COMÉRCIO DE PRODUTOS FARM...</td>\n",
              "      <td>525921120067907</td>\n",
              "      <td>1181902240011</td>\n",
              "      <td>7896472502110</td>\n",
              "      <td>7896004782560</td>\n",
              "      <td>-</td>\n",
              "      <td>CORTITOP</td>\n",
              "      <td>1 MG/G CREM DERM CT BG AL X 10 G</td>\n",
              "      <td>...</td>\n",
              "      <td>19,05</td>\n",
              "      <td>19,53</td>\n",
              "      <td>Não</td>\n",
              "      <td>Não</td>\n",
              "      <td>Não</td>\n",
              "      <td>Não</td>\n",
              "      <td>NaN</td>\n",
              "      <td>Positiva</td>\n",
              "      <td>Não</td>\n",
              "      <td>- (*)</td>\n",
              "    </tr>\n",
              "    <tr>\n",
              "      <th>27195</th>\n",
              "      <td>ACETATO DE DEXAMETASONA</td>\n",
              "      <td>92.265.552/0001-40</td>\n",
              "      <td>MULTILAB INDÚSTRIA E COMÉRCIO DE PRODUTOS FARM...</td>\n",
              "      <td>525922030071603</td>\n",
              "      <td>1181902240021</td>\n",
              "      <td>7896004782225</td>\n",
              "      <td>-</td>\n",
              "      <td>-</td>\n",
              "      <td>CORTITOP</td>\n",
              "      <td>1 MG/G CREM DERM CT BG AL X 20 G</td>\n",
              "      <td>...</td>\n",
              "      <td>37,92</td>\n",
              "      <td>38,86</td>\n",
              "      <td>Não</td>\n",
              "      <td>Não</td>\n",
              "      <td>Não</td>\n",
              "      <td>Não</td>\n",
              "      <td>NaN</td>\n",
              "      <td>Positiva</td>\n",
              "      <td>Não</td>\n",
              "      <td>- (*)</td>\n",
              "    </tr>\n",
              "    <tr>\n",
              "      <th>27196</th>\n",
              "      <td>ACETATO DE DEXAMETASONA</td>\n",
              "      <td>92.265.552/0001-40</td>\n",
              "      <td>MULTILAB INDÚSTRIA E COMÉRCIO DE PRODUTOS FARM...</td>\n",
              "      <td>525922030071703</td>\n",
              "      <td>1181902240038</td>\n",
              "      <td>7896004782232</td>\n",
              "      <td>-</td>\n",
              "      <td>-</td>\n",
              "      <td>CORTITOP</td>\n",
              "      <td>1 MG/G CREM DERM CT BG AL X 30 G</td>\n",
              "      <td>...</td>\n",
              "      <td>56,86</td>\n",
              "      <td>58,28</td>\n",
              "      <td>Não</td>\n",
              "      <td>Não</td>\n",
              "      <td>Não</td>\n",
              "      <td>Não</td>\n",
              "      <td>NaN</td>\n",
              "      <td>Positiva</td>\n",
              "      <td>Não</td>\n",
              "      <td>- (*)</td>\n",
              "    </tr>\n",
              "  </tbody>\n",
              "</table>\n",
              "<p>27197 rows × 40 columns</p>\n",
              "</div>\n",
              "      <button class=\"colab-df-convert\" onclick=\"convertToInteractive('df-8d02eafd-87e3-4e63-98e0-f7d80ccc409e')\"\n",
              "              title=\"Convert this dataframe to an interactive table.\"\n",
              "              style=\"display:none;\">\n",
              "        \n",
              "  <svg xmlns=\"http://www.w3.org/2000/svg\" height=\"24px\"viewBox=\"0 0 24 24\"\n",
              "       width=\"24px\">\n",
              "    <path d=\"M0 0h24v24H0V0z\" fill=\"none\"/>\n",
              "    <path d=\"M18.56 5.44l.94 2.06.94-2.06 2.06-.94-2.06-.94-.94-2.06-.94 2.06-2.06.94zm-11 1L8.5 8.5l.94-2.06 2.06-.94-2.06-.94L8.5 2.5l-.94 2.06-2.06.94zm10 10l.94 2.06.94-2.06 2.06-.94-2.06-.94-.94-2.06-.94 2.06-2.06.94z\"/><path d=\"M17.41 7.96l-1.37-1.37c-.4-.4-.92-.59-1.43-.59-.52 0-1.04.2-1.43.59L10.3 9.45l-7.72 7.72c-.78.78-.78 2.05 0 2.83L4 21.41c.39.39.9.59 1.41.59.51 0 1.02-.2 1.41-.59l7.78-7.78 2.81-2.81c.8-.78.8-2.07 0-2.86zM5.41 20L4 18.59l7.72-7.72 1.47 1.35L5.41 20z\"/>\n",
              "  </svg>\n",
              "      </button>\n",
              "      \n",
              "  <style>\n",
              "    .colab-df-container {\n",
              "      display:flex;\n",
              "      flex-wrap:wrap;\n",
              "      gap: 12px;\n",
              "    }\n",
              "\n",
              "    .colab-df-convert {\n",
              "      background-color: #E8F0FE;\n",
              "      border: none;\n",
              "      border-radius: 50%;\n",
              "      cursor: pointer;\n",
              "      display: none;\n",
              "      fill: #1967D2;\n",
              "      height: 32px;\n",
              "      padding: 0 0 0 0;\n",
              "      width: 32px;\n",
              "    }\n",
              "\n",
              "    .colab-df-convert:hover {\n",
              "      background-color: #E2EBFA;\n",
              "      box-shadow: 0px 1px 2px rgba(60, 64, 67, 0.3), 0px 1px 3px 1px rgba(60, 64, 67, 0.15);\n",
              "      fill: #174EA6;\n",
              "    }\n",
              "\n",
              "    [theme=dark] .colab-df-convert {\n",
              "      background-color: #3B4455;\n",
              "      fill: #D2E3FC;\n",
              "    }\n",
              "\n",
              "    [theme=dark] .colab-df-convert:hover {\n",
              "      background-color: #434B5C;\n",
              "      box-shadow: 0px 1px 3px 1px rgba(0, 0, 0, 0.15);\n",
              "      filter: drop-shadow(0px 1px 2px rgba(0, 0, 0, 0.3));\n",
              "      fill: #FFFFFF;\n",
              "    }\n",
              "  </style>\n",
              "\n",
              "      <script>\n",
              "        const buttonEl =\n",
              "          document.querySelector('#df-8d02eafd-87e3-4e63-98e0-f7d80ccc409e button.colab-df-convert');\n",
              "        buttonEl.style.display =\n",
              "          google.colab.kernel.accessAllowed ? 'block' : 'none';\n",
              "\n",
              "        async function convertToInteractive(key) {\n",
              "          const element = document.querySelector('#df-8d02eafd-87e3-4e63-98e0-f7d80ccc409e');\n",
              "          const dataTable =\n",
              "            await google.colab.kernel.invokeFunction('convertToInteractive',\n",
              "                                                     [key], {});\n",
              "          if (!dataTable) return;\n",
              "\n",
              "          const docLinkHtml = 'Like what you see? Visit the ' +\n",
              "            '<a target=\"_blank\" href=https://colab.research.google.com/notebooks/data_table.ipynb>data table notebook</a>'\n",
              "            + ' to learn more about interactive tables.';\n",
              "          element.innerHTML = '';\n",
              "          dataTable['output_type'] = 'display_data';\n",
              "          await google.colab.output.renderOutput(dataTable, element);\n",
              "          const docLink = document.createElement('div');\n",
              "          docLink.innerHTML = docLinkHtml;\n",
              "          element.appendChild(docLink);\n",
              "        }\n",
              "      </script>\n",
              "    </div>\n",
              "  </div>\n",
              "  "
            ]
          },
          "metadata": {},
          "execution_count": 6
        }
      ],
      "source": [
        "datasetMed = pd.read_excel(\"/content/drive/MyDrive/Projeto/Dados/medTarja.xls\", engine='xlrd', index_col=None, header=45, skiprows = [0, 45])\n",
        "datasetMed"
      ]
    },
    {
      "cell_type": "markdown",
      "metadata": {
        "id": "xv5Mr3jSHCzU"
      },
      "source": [
        "Após tendo as bases de dados lidas, realizamos os devidos tratamentos. As operações a seguir terão como objetivo a exclusão de linhas com dados faltantes, para que facilite durante as análises mais a frente.<br/>\n",
        "Removeremos as colunas EAN 2, EAN 3 e Análise Recursal pois as mesmas raramente possuem valores."
      ]
    },
    {
      "cell_type": "code",
      "execution_count": 7,
      "metadata": {
        "id": "Fu4Lr4FfHTmB",
        "colab": {
          "base_uri": "https://localhost:8080/",
          "height": 1000
        },
        "outputId": "5ec33f61-20b5-4357-acff-ffe996d4483a"
      },
      "outputs": [
        {
          "output_type": "execute_result",
          "data": {
            "text/plain": [
              "                              SUBSTÂNCIA                CNPJ  \\\n",
              "0                      CEFALOTINA SODICA  04.301.884/0001-75   \n",
              "1                      CEFAZOLINA SÓDICA  04.301.884/0001-75   \n",
              "2                      CEFOTAXIMA SÓDICA  04.301.884/0001-75   \n",
              "3           CLORIDRATO DE CIPROFLOXACINO  04.301.884/0001-75   \n",
              "4                CEFALEXINA MONOIDRATADA  04.301.884/0001-75   \n",
              "...                                  ...                 ...   \n",
              "27192  ACETATO DE RETINOL;COLECALCIFEROL  92.265.552/0001-40   \n",
              "27193            ACETATO DE DEXAMETASONA  92.265.552/0001-40   \n",
              "27194            ACETATO DE DEXAMETASONA  92.265.552/0001-40   \n",
              "27195            ACETATO DE DEXAMETASONA  92.265.552/0001-40   \n",
              "27196            ACETATO DE DEXAMETASONA  92.265.552/0001-40   \n",
              "\n",
              "                                             LABORATÓRIO     CÓDIGO GGREM  \\\n",
              "0       AUROBINDO PHARMA INDÚSTRIA FARMACÊUTICA LIMITADA  500100106155118   \n",
              "1       AUROBINDO PHARMA INDÚSTRIA FARMACÊUTICA LIMITADA  500100204157115   \n",
              "2       AUROBINDO PHARMA INDÚSTRIA FARMACÊUTICA LIMITADA  500100310151117   \n",
              "3       AUROBINDO PHARMA INDÚSTRIA FARMACÊUTICA LIMITADA  500100410113111   \n",
              "4       AUROBINDO PHARMA INDÚSTRIA FARMACÊUTICA LIMITADA  500100801112111   \n",
              "...                                                  ...              ...   \n",
              "27192  MULTILAB INDÚSTRIA E COMÉRCIO DE PRODUTOS FARM...  525917060050504   \n",
              "27193  MULTILAB INDÚSTRIA E COMÉRCIO DE PRODUTOS FARM...  525921120068107   \n",
              "27194  MULTILAB INDÚSTRIA E COMÉRCIO DE PRODUTOS FARM...  525921120067907   \n",
              "27195  MULTILAB INDÚSTRIA E COMÉRCIO DE PRODUTOS FARM...  525922030071603   \n",
              "27196  MULTILAB INDÚSTRIA E COMÉRCIO DE PRODUTOS FARM...  525922030071703   \n",
              "\n",
              "            REGISTRO          EAN 1                       PRODUTO  \\\n",
              "0      1516700060050  7898361881450             CEFALOTINA SÓDICA   \n",
              "1      1516700030038  7898361881405             CEFAZOLINA SÓDICA   \n",
              "2      1516700050063  7898361881412             CEFOTAXIMA SÓDICA   \n",
              "3      1516700070099  7898361881313  CLORIDRATO DE CIPROFLOXACINO   \n",
              "4      1516700080035  7898361880019                    CEFALEXINA   \n",
              "...              ...            ...                           ...   \n",
              "27192  1181901840031  7896472518821                       METOSAD   \n",
              "27193  1181902220010  7896472503599       ACETATO DE DEXAMETASONA   \n",
              "27194  1181902240011  7896472502110                      CORTITOP   \n",
              "27195  1181902240021  7896004782225                      CORTITOP   \n",
              "27196  1181902240038  7896004782232                      CORTITOP   \n",
              "\n",
              "                                            APRESENTAÇÃO  \\\n",
              "0                        1G PO SOL INJ CT 50 FA VD TRANS   \n",
              "1                       1 G PO SOL INJ CT 50 FA VD TRANS   \n",
              "2                       1 G PO SOL INJ CT 50 FA VD TRANS   \n",
              "3              500 MG COM REV CT 2 BL AL PLAS TRANS X 07   \n",
              "4           500 MG COM REV CT BL AL PVC/PVDC TRANS X 8     \n",
              "...                                                  ...   \n",
              "27192  50000 + 10000 UI/ML SOL OR CT FR PLAS AMB GOT ...   \n",
              "27193                 1 MG/G CREM DERM CT BG AL X 10 G     \n",
              "27194                 1 MG/G CREM DERM CT BG AL X 10 G     \n",
              "27195                   1 MG/G CREM DERM CT BG AL X 20 G   \n",
              "27196                   1 MG/G CREM DERM CT BG AL X 30 G   \n",
              "\n",
              "                          CLASSE TERAPÊUTICA  \\\n",
              "0           J1D2 - CEFALOSPORINAS INJETÁVEIS   \n",
              "1           J1D2 - CEFALOSPORINAS INJETÁVEIS   \n",
              "2           J1D2 - CEFALOSPORINAS INJETÁVEIS   \n",
              "3               J1G1 - FLUORQUINOLONAS ORAIS   \n",
              "4                J1D1 - CEFALOSPORINAS ORAIS   \n",
              "...                                      ...   \n",
              "27192  A11C3 - ASSOCIAÇÕES VITAMINAS A COM D   \n",
              "27193  D7A - CORTICOESTERÓIDES TÓPICOS PUROS   \n",
              "27194  D7A - CORTICOESTERÓIDES TÓPICOS PUROS   \n",
              "27195  D7A - CORTICOESTERÓIDES TÓPICOS PUROS   \n",
              "27196  D7A - CORTICOESTERÓIDES TÓPICOS PUROS   \n",
              "\n",
              "      TIPO DE PRODUTO (STATUS DO PRODUTO)  ... PMC 18% PMC 18% ALC PMC 20%  \\\n",
              "0                                Genérico  ...     NaN         NaN     NaN   \n",
              "1                                Genérico  ...     NaN         NaN     NaN   \n",
              "2                                Genérico  ...     NaN         NaN     NaN   \n",
              "3                                Genérico  ...   46,26       46,26   47,42   \n",
              "4                                Genérico  ...   20,97       20,97   21,50   \n",
              "...                                   ...  ...     ...         ...     ...   \n",
              "27192                              -       ...   30,95       27,91   31,83   \n",
              "27193                            Genérico  ...   12,30       12,30   12,62   \n",
              "27194                             Similar  ...   19,05       19,05   19,53   \n",
              "27195                             Similar  ...   37,92       37,92   38,86   \n",
              "27196                             Similar  ...   56,86       56,86   58,28   \n",
              "\n",
              "      RESTRIÇÃO HOSPITALAR  CAP CONFAZ 87 ICMS 0%  \\\n",
              "0                      Sim  Não       Não     Não   \n",
              "1                      Sim  Não       Não     Não   \n",
              "2                      Sim  Não       Não     Não   \n",
              "3                      Não  Não       Sim     Não   \n",
              "4                      Não  Não       Não     Não   \n",
              "...                    ...  ...       ...     ...   \n",
              "27192                  Não  Não       Não     Não   \n",
              "27193                  Não  Não       Não     Não   \n",
              "27194                  Não  Não       Não     Não   \n",
              "27195                  Não  Não       Não     Não   \n",
              "27196                  Não  Não       Não     Não   \n",
              "\n",
              "      LISTA DE CONCESSÃO DE CRÉDITO TRIBUTÁRIO (PIS/COFINS)  \\\n",
              "0                                               Positiva      \n",
              "1                                               Positiva      \n",
              "2                                               Positiva      \n",
              "3                                               Positiva      \n",
              "4                                               Positiva      \n",
              "...                                                  ...      \n",
              "27192                                           Negativa      \n",
              "27193                                           Positiva      \n",
              "27194                                           Positiva      \n",
              "27195                                           Positiva      \n",
              "27196                                           Positiva      \n",
              "\n",
              "      COMERCIALIZAÇÃO 2020               TARJA  \n",
              "0                      Sim  Tarja Vermelha (*)  \n",
              "1                      Sim  Tarja Vermelha (*)  \n",
              "2                      Sim  Tarja Vermelha (*)  \n",
              "3                      Não  Tarja Vermelha (*)  \n",
              "4                      Sim  Tarja Vermelha (*)  \n",
              "...                    ...                 ...  \n",
              "27192                  Não              - (*)   \n",
              "27193                  Não              - (*)   \n",
              "27194                  Não              - (*)   \n",
              "27195                  Não              - (*)   \n",
              "27196                  Não              - (*)   \n",
              "\n",
              "[27197 rows x 37 columns]"
            ],
            "text/html": [
              "\n",
              "  <div id=\"df-820cba73-5f77-48ab-bcd4-680cbd86bb68\">\n",
              "    <div class=\"colab-df-container\">\n",
              "      <div>\n",
              "<style scoped>\n",
              "    .dataframe tbody tr th:only-of-type {\n",
              "        vertical-align: middle;\n",
              "    }\n",
              "\n",
              "    .dataframe tbody tr th {\n",
              "        vertical-align: top;\n",
              "    }\n",
              "\n",
              "    .dataframe thead th {\n",
              "        text-align: right;\n",
              "    }\n",
              "</style>\n",
              "<table border=\"1\" class=\"dataframe\">\n",
              "  <thead>\n",
              "    <tr style=\"text-align: right;\">\n",
              "      <th></th>\n",
              "      <th>SUBSTÂNCIA</th>\n",
              "      <th>CNPJ</th>\n",
              "      <th>LABORATÓRIO</th>\n",
              "      <th>CÓDIGO GGREM</th>\n",
              "      <th>REGISTRO</th>\n",
              "      <th>EAN 1</th>\n",
              "      <th>PRODUTO</th>\n",
              "      <th>APRESENTAÇÃO</th>\n",
              "      <th>CLASSE TERAPÊUTICA</th>\n",
              "      <th>TIPO DE PRODUTO (STATUS DO PRODUTO)</th>\n",
              "      <th>...</th>\n",
              "      <th>PMC 18%</th>\n",
              "      <th>PMC 18% ALC</th>\n",
              "      <th>PMC 20%</th>\n",
              "      <th>RESTRIÇÃO HOSPITALAR</th>\n",
              "      <th>CAP</th>\n",
              "      <th>CONFAZ 87</th>\n",
              "      <th>ICMS 0%</th>\n",
              "      <th>LISTA DE CONCESSÃO DE CRÉDITO TRIBUTÁRIO (PIS/COFINS)</th>\n",
              "      <th>COMERCIALIZAÇÃO 2020</th>\n",
              "      <th>TARJA</th>\n",
              "    </tr>\n",
              "  </thead>\n",
              "  <tbody>\n",
              "    <tr>\n",
              "      <th>0</th>\n",
              "      <td>CEFALOTINA SODICA</td>\n",
              "      <td>04.301.884/0001-75</td>\n",
              "      <td>AUROBINDO PHARMA INDÚSTRIA FARMACÊUTICA LIMITADA</td>\n",
              "      <td>500100106155118</td>\n",
              "      <td>1516700060050</td>\n",
              "      <td>7898361881450</td>\n",
              "      <td>CEFALOTINA SÓDICA</td>\n",
              "      <td>1G PO SOL INJ CT 50 FA VD TRANS</td>\n",
              "      <td>J1D2 - CEFALOSPORINAS INJETÁVEIS</td>\n",
              "      <td>Genérico</td>\n",
              "      <td>...</td>\n",
              "      <td>NaN</td>\n",
              "      <td>NaN</td>\n",
              "      <td>NaN</td>\n",
              "      <td>Sim</td>\n",
              "      <td>Não</td>\n",
              "      <td>Não</td>\n",
              "      <td>Não</td>\n",
              "      <td>Positiva</td>\n",
              "      <td>Sim</td>\n",
              "      <td>Tarja Vermelha (*)</td>\n",
              "    </tr>\n",
              "    <tr>\n",
              "      <th>1</th>\n",
              "      <td>CEFAZOLINA SÓDICA</td>\n",
              "      <td>04.301.884/0001-75</td>\n",
              "      <td>AUROBINDO PHARMA INDÚSTRIA FARMACÊUTICA LIMITADA</td>\n",
              "      <td>500100204157115</td>\n",
              "      <td>1516700030038</td>\n",
              "      <td>7898361881405</td>\n",
              "      <td>CEFAZOLINA SÓDICA</td>\n",
              "      <td>1 G PO SOL INJ CT 50 FA VD TRANS</td>\n",
              "      <td>J1D2 - CEFALOSPORINAS INJETÁVEIS</td>\n",
              "      <td>Genérico</td>\n",
              "      <td>...</td>\n",
              "      <td>NaN</td>\n",
              "      <td>NaN</td>\n",
              "      <td>NaN</td>\n",
              "      <td>Sim</td>\n",
              "      <td>Não</td>\n",
              "      <td>Não</td>\n",
              "      <td>Não</td>\n",
              "      <td>Positiva</td>\n",
              "      <td>Sim</td>\n",
              "      <td>Tarja Vermelha (*)</td>\n",
              "    </tr>\n",
              "    <tr>\n",
              "      <th>2</th>\n",
              "      <td>CEFOTAXIMA SÓDICA</td>\n",
              "      <td>04.301.884/0001-75</td>\n",
              "      <td>AUROBINDO PHARMA INDÚSTRIA FARMACÊUTICA LIMITADA</td>\n",
              "      <td>500100310151117</td>\n",
              "      <td>1516700050063</td>\n",
              "      <td>7898361881412</td>\n",
              "      <td>CEFOTAXIMA SÓDICA</td>\n",
              "      <td>1 G PO SOL INJ CT 50 FA VD TRANS</td>\n",
              "      <td>J1D2 - CEFALOSPORINAS INJETÁVEIS</td>\n",
              "      <td>Genérico</td>\n",
              "      <td>...</td>\n",
              "      <td>NaN</td>\n",
              "      <td>NaN</td>\n",
              "      <td>NaN</td>\n",
              "      <td>Sim</td>\n",
              "      <td>Não</td>\n",
              "      <td>Não</td>\n",
              "      <td>Não</td>\n",
              "      <td>Positiva</td>\n",
              "      <td>Sim</td>\n",
              "      <td>Tarja Vermelha (*)</td>\n",
              "    </tr>\n",
              "    <tr>\n",
              "      <th>3</th>\n",
              "      <td>CLORIDRATO DE CIPROFLOXACINO</td>\n",
              "      <td>04.301.884/0001-75</td>\n",
              "      <td>AUROBINDO PHARMA INDÚSTRIA FARMACÊUTICA LIMITADA</td>\n",
              "      <td>500100410113111</td>\n",
              "      <td>1516700070099</td>\n",
              "      <td>7898361881313</td>\n",
              "      <td>CLORIDRATO DE CIPROFLOXACINO</td>\n",
              "      <td>500 MG COM REV CT 2 BL AL PLAS TRANS X 07</td>\n",
              "      <td>J1G1 - FLUORQUINOLONAS ORAIS</td>\n",
              "      <td>Genérico</td>\n",
              "      <td>...</td>\n",
              "      <td>46,26</td>\n",
              "      <td>46,26</td>\n",
              "      <td>47,42</td>\n",
              "      <td>Não</td>\n",
              "      <td>Não</td>\n",
              "      <td>Sim</td>\n",
              "      <td>Não</td>\n",
              "      <td>Positiva</td>\n",
              "      <td>Não</td>\n",
              "      <td>Tarja Vermelha (*)</td>\n",
              "    </tr>\n",
              "    <tr>\n",
              "      <th>4</th>\n",
              "      <td>CEFALEXINA MONOIDRATADA</td>\n",
              "      <td>04.301.884/0001-75</td>\n",
              "      <td>AUROBINDO PHARMA INDÚSTRIA FARMACÊUTICA LIMITADA</td>\n",
              "      <td>500100801112111</td>\n",
              "      <td>1516700080035</td>\n",
              "      <td>7898361880019</td>\n",
              "      <td>CEFALEXINA</td>\n",
              "      <td>500 MG COM REV CT BL AL PVC/PVDC TRANS X 8</td>\n",
              "      <td>J1D1 - CEFALOSPORINAS ORAIS</td>\n",
              "      <td>Genérico</td>\n",
              "      <td>...</td>\n",
              "      <td>20,97</td>\n",
              "      <td>20,97</td>\n",
              "      <td>21,50</td>\n",
              "      <td>Não</td>\n",
              "      <td>Não</td>\n",
              "      <td>Não</td>\n",
              "      <td>Não</td>\n",
              "      <td>Positiva</td>\n",
              "      <td>Sim</td>\n",
              "      <td>Tarja Vermelha (*)</td>\n",
              "    </tr>\n",
              "    <tr>\n",
              "      <th>...</th>\n",
              "      <td>...</td>\n",
              "      <td>...</td>\n",
              "      <td>...</td>\n",
              "      <td>...</td>\n",
              "      <td>...</td>\n",
              "      <td>...</td>\n",
              "      <td>...</td>\n",
              "      <td>...</td>\n",
              "      <td>...</td>\n",
              "      <td>...</td>\n",
              "      <td>...</td>\n",
              "      <td>...</td>\n",
              "      <td>...</td>\n",
              "      <td>...</td>\n",
              "      <td>...</td>\n",
              "      <td>...</td>\n",
              "      <td>...</td>\n",
              "      <td>...</td>\n",
              "      <td>...</td>\n",
              "      <td>...</td>\n",
              "      <td>...</td>\n",
              "    </tr>\n",
              "    <tr>\n",
              "      <th>27192</th>\n",
              "      <td>ACETATO DE RETINOL;COLECALCIFEROL</td>\n",
              "      <td>92.265.552/0001-40</td>\n",
              "      <td>MULTILAB INDÚSTRIA E COMÉRCIO DE PRODUTOS FARM...</td>\n",
              "      <td>525917060050504</td>\n",
              "      <td>1181901840031</td>\n",
              "      <td>7896472518821</td>\n",
              "      <td>METOSAD</td>\n",
              "      <td>50000 + 10000 UI/ML SOL OR CT FR PLAS AMB GOT ...</td>\n",
              "      <td>A11C3 - ASSOCIAÇÕES VITAMINAS A COM D</td>\n",
              "      <td>-</td>\n",
              "      <td>...</td>\n",
              "      <td>30,95</td>\n",
              "      <td>27,91</td>\n",
              "      <td>31,83</td>\n",
              "      <td>Não</td>\n",
              "      <td>Não</td>\n",
              "      <td>Não</td>\n",
              "      <td>Não</td>\n",
              "      <td>Negativa</td>\n",
              "      <td>Não</td>\n",
              "      <td>- (*)</td>\n",
              "    </tr>\n",
              "    <tr>\n",
              "      <th>27193</th>\n",
              "      <td>ACETATO DE DEXAMETASONA</td>\n",
              "      <td>92.265.552/0001-40</td>\n",
              "      <td>MULTILAB INDÚSTRIA E COMÉRCIO DE PRODUTOS FARM...</td>\n",
              "      <td>525921120068107</td>\n",
              "      <td>1181902220010</td>\n",
              "      <td>7896472503599</td>\n",
              "      <td>ACETATO DE DEXAMETASONA</td>\n",
              "      <td>1 MG/G CREM DERM CT BG AL X 10 G</td>\n",
              "      <td>D7A - CORTICOESTERÓIDES TÓPICOS PUROS</td>\n",
              "      <td>Genérico</td>\n",
              "      <td>...</td>\n",
              "      <td>12,30</td>\n",
              "      <td>12,30</td>\n",
              "      <td>12,62</td>\n",
              "      <td>Não</td>\n",
              "      <td>Não</td>\n",
              "      <td>Não</td>\n",
              "      <td>Não</td>\n",
              "      <td>Positiva</td>\n",
              "      <td>Não</td>\n",
              "      <td>- (*)</td>\n",
              "    </tr>\n",
              "    <tr>\n",
              "      <th>27194</th>\n",
              "      <td>ACETATO DE DEXAMETASONA</td>\n",
              "      <td>92.265.552/0001-40</td>\n",
              "      <td>MULTILAB INDÚSTRIA E COMÉRCIO DE PRODUTOS FARM...</td>\n",
              "      <td>525921120067907</td>\n",
              "      <td>1181902240011</td>\n",
              "      <td>7896472502110</td>\n",
              "      <td>CORTITOP</td>\n",
              "      <td>1 MG/G CREM DERM CT BG AL X 10 G</td>\n",
              "      <td>D7A - CORTICOESTERÓIDES TÓPICOS PUROS</td>\n",
              "      <td>Similar</td>\n",
              "      <td>...</td>\n",
              "      <td>19,05</td>\n",
              "      <td>19,05</td>\n",
              "      <td>19,53</td>\n",
              "      <td>Não</td>\n",
              "      <td>Não</td>\n",
              "      <td>Não</td>\n",
              "      <td>Não</td>\n",
              "      <td>Positiva</td>\n",
              "      <td>Não</td>\n",
              "      <td>- (*)</td>\n",
              "    </tr>\n",
              "    <tr>\n",
              "      <th>27195</th>\n",
              "      <td>ACETATO DE DEXAMETASONA</td>\n",
              "      <td>92.265.552/0001-40</td>\n",
              "      <td>MULTILAB INDÚSTRIA E COMÉRCIO DE PRODUTOS FARM...</td>\n",
              "      <td>525922030071603</td>\n",
              "      <td>1181902240021</td>\n",
              "      <td>7896004782225</td>\n",
              "      <td>CORTITOP</td>\n",
              "      <td>1 MG/G CREM DERM CT BG AL X 20 G</td>\n",
              "      <td>D7A - CORTICOESTERÓIDES TÓPICOS PUROS</td>\n",
              "      <td>Similar</td>\n",
              "      <td>...</td>\n",
              "      <td>37,92</td>\n",
              "      <td>37,92</td>\n",
              "      <td>38,86</td>\n",
              "      <td>Não</td>\n",
              "      <td>Não</td>\n",
              "      <td>Não</td>\n",
              "      <td>Não</td>\n",
              "      <td>Positiva</td>\n",
              "      <td>Não</td>\n",
              "      <td>- (*)</td>\n",
              "    </tr>\n",
              "    <tr>\n",
              "      <th>27196</th>\n",
              "      <td>ACETATO DE DEXAMETASONA</td>\n",
              "      <td>92.265.552/0001-40</td>\n",
              "      <td>MULTILAB INDÚSTRIA E COMÉRCIO DE PRODUTOS FARM...</td>\n",
              "      <td>525922030071703</td>\n",
              "      <td>1181902240038</td>\n",
              "      <td>7896004782232</td>\n",
              "      <td>CORTITOP</td>\n",
              "      <td>1 MG/G CREM DERM CT BG AL X 30 G</td>\n",
              "      <td>D7A - CORTICOESTERÓIDES TÓPICOS PUROS</td>\n",
              "      <td>Similar</td>\n",
              "      <td>...</td>\n",
              "      <td>56,86</td>\n",
              "      <td>56,86</td>\n",
              "      <td>58,28</td>\n",
              "      <td>Não</td>\n",
              "      <td>Não</td>\n",
              "      <td>Não</td>\n",
              "      <td>Não</td>\n",
              "      <td>Positiva</td>\n",
              "      <td>Não</td>\n",
              "      <td>- (*)</td>\n",
              "    </tr>\n",
              "  </tbody>\n",
              "</table>\n",
              "<p>27197 rows × 37 columns</p>\n",
              "</div>\n",
              "      <button class=\"colab-df-convert\" onclick=\"convertToInteractive('df-820cba73-5f77-48ab-bcd4-680cbd86bb68')\"\n",
              "              title=\"Convert this dataframe to an interactive table.\"\n",
              "              style=\"display:none;\">\n",
              "        \n",
              "  <svg xmlns=\"http://www.w3.org/2000/svg\" height=\"24px\"viewBox=\"0 0 24 24\"\n",
              "       width=\"24px\">\n",
              "    <path d=\"M0 0h24v24H0V0z\" fill=\"none\"/>\n",
              "    <path d=\"M18.56 5.44l.94 2.06.94-2.06 2.06-.94-2.06-.94-.94-2.06-.94 2.06-2.06.94zm-11 1L8.5 8.5l.94-2.06 2.06-.94-2.06-.94L8.5 2.5l-.94 2.06-2.06.94zm10 10l.94 2.06.94-2.06 2.06-.94-2.06-.94-.94-2.06-.94 2.06-2.06.94z\"/><path d=\"M17.41 7.96l-1.37-1.37c-.4-.4-.92-.59-1.43-.59-.52 0-1.04.2-1.43.59L10.3 9.45l-7.72 7.72c-.78.78-.78 2.05 0 2.83L4 21.41c.39.39.9.59 1.41.59.51 0 1.02-.2 1.41-.59l7.78-7.78 2.81-2.81c.8-.78.8-2.07 0-2.86zM5.41 20L4 18.59l7.72-7.72 1.47 1.35L5.41 20z\"/>\n",
              "  </svg>\n",
              "      </button>\n",
              "      \n",
              "  <style>\n",
              "    .colab-df-container {\n",
              "      display:flex;\n",
              "      flex-wrap:wrap;\n",
              "      gap: 12px;\n",
              "    }\n",
              "\n",
              "    .colab-df-convert {\n",
              "      background-color: #E8F0FE;\n",
              "      border: none;\n",
              "      border-radius: 50%;\n",
              "      cursor: pointer;\n",
              "      display: none;\n",
              "      fill: #1967D2;\n",
              "      height: 32px;\n",
              "      padding: 0 0 0 0;\n",
              "      width: 32px;\n",
              "    }\n",
              "\n",
              "    .colab-df-convert:hover {\n",
              "      background-color: #E2EBFA;\n",
              "      box-shadow: 0px 1px 2px rgba(60, 64, 67, 0.3), 0px 1px 3px 1px rgba(60, 64, 67, 0.15);\n",
              "      fill: #174EA6;\n",
              "    }\n",
              "\n",
              "    [theme=dark] .colab-df-convert {\n",
              "      background-color: #3B4455;\n",
              "      fill: #D2E3FC;\n",
              "    }\n",
              "\n",
              "    [theme=dark] .colab-df-convert:hover {\n",
              "      background-color: #434B5C;\n",
              "      box-shadow: 0px 1px 3px 1px rgba(0, 0, 0, 0.15);\n",
              "      filter: drop-shadow(0px 1px 2px rgba(0, 0, 0, 0.3));\n",
              "      fill: #FFFFFF;\n",
              "    }\n",
              "  </style>\n",
              "\n",
              "      <script>\n",
              "        const buttonEl =\n",
              "          document.querySelector('#df-820cba73-5f77-48ab-bcd4-680cbd86bb68 button.colab-df-convert');\n",
              "        buttonEl.style.display =\n",
              "          google.colab.kernel.accessAllowed ? 'block' : 'none';\n",
              "\n",
              "        async function convertToInteractive(key) {\n",
              "          const element = document.querySelector('#df-820cba73-5f77-48ab-bcd4-680cbd86bb68');\n",
              "          const dataTable =\n",
              "            await google.colab.kernel.invokeFunction('convertToInteractive',\n",
              "                                                     [key], {});\n",
              "          if (!dataTable) return;\n",
              "\n",
              "          const docLinkHtml = 'Like what you see? Visit the ' +\n",
              "            '<a target=\"_blank\" href=https://colab.research.google.com/notebooks/data_table.ipynb>data table notebook</a>'\n",
              "            + ' to learn more about interactive tables.';\n",
              "          element.innerHTML = '';\n",
              "          dataTable['output_type'] = 'display_data';\n",
              "          await google.colab.output.renderOutput(dataTable, element);\n",
              "          const docLink = document.createElement('div');\n",
              "          docLink.innerHTML = docLinkHtml;\n",
              "          element.appendChild(docLink);\n",
              "        }\n",
              "      </script>\n",
              "    </div>\n",
              "  </div>\n",
              "  "
            ]
          },
          "metadata": {},
          "execution_count": 7
        }
      ],
      "source": [
        "datasetMed.drop('EAN 2', inplace=True, axis=1)\n",
        "datasetMed.drop('EAN 3', inplace=True, axis=1)\n",
        "datasetMed.drop('ANÁLISE RECURSAL', inplace=True, axis=1)\n",
        "datasetMed"
      ]
    },
    {
      "cell_type": "code",
      "execution_count": 8,
      "metadata": {
        "id": "P6YJUJ48RwWj"
      },
      "outputs": [],
      "source": [
        "datasetMedCons['NOME_PRODUTO'] = datasetMedCons['NOME_PRODUTO'].str.upper()"
      ]
    },
    {
      "cell_type": "markdown",
      "source": [
        "**Convertendo os dados para tipo numérico**"
      ],
      "metadata": {
        "id": "ziMVGIh0czRl"
      }
    },
    {
      "cell_type": "code",
      "source": [
        "datasetMed['PMC 0%'] = datasetMed['PMC 0%'].str.replace(',', '.')\n",
        "datasetMed['PMC 17%'] = datasetMed['PMC 17%'].str.replace(',', '.')\n",
        "datasetMed['PMC 18%'] = datasetMed['PMC 18%'].str.replace(',', '.')\n",
        "datasetMed['PMC 20%'] = datasetMed['PMC 20%'].str.replace(',', '.')\n",
        "datasetMed['PF 0%'] = datasetMed['PF 0%'].str.replace(',', '.')\n",
        "datasetMed['PF Sem Impostos'] = datasetMed['PF Sem Impostos'].str.replace(',', '.')\n",
        "\n",
        "datasetMed['PMC 0%'] = datasetMed['PMC 0%'].astype(float)\n",
        "datasetMed['PMC 17%'] = datasetMed['PMC 17%'].astype(float)\n",
        "datasetMed['PMC 18%'] = datasetMed['PMC 18%'].astype(float)\n",
        "datasetMed['PMC 20%'] = datasetMed['PMC 20%'].astype(float)\n",
        "datasetMed['PF 0%'] = datasetMed['PF 0%'].astype(float)\n",
        "datasetMed['PF Sem Impostos'] = datasetMed['PF Sem Impostos'].astype(float)"
      ],
      "metadata": {
        "id": "bn3_mQk4cu9f"
      },
      "execution_count": 9,
      "outputs": []
    },
    {
      "cell_type": "markdown",
      "source": [
        "**Tratamento das Tarjas**<br/>\n",
        "<p>Como é possível ver, existe mais de uma ocorrência para um mesmo tipo de tarja, sendo estas diferenciadas apenas por um espaço espaço a mais ou a menos. Sendo assim, esses valores devem ser tratados para que sejam únicos.</p>"
      ],
      "metadata": {
        "id": "T6rse-XRGl4M"
      }
    },
    {
      "cell_type": "code",
      "source": [
        "def map_tarjas(tarja):\n",
        "  if tarja in ['Tarja Vermelha (*)','Tarja Vermelha(*)','Tarja  Vermelha', 'Tarja Vermelha', 'Tarja Vermelha sob restrição']:\n",
        "    return 'Tarja Vermelha'\n",
        "  if tarja in ['Tarja Preta(*)','Tarja  Preta']:\n",
        "    return 'Tarja Preta'\n",
        "  if tarja in ['Tarja Venda Livre/Sem Tarja (*)', 'Tarja Venda Livre', 'Tarja -(*)', '- (*) ','Tarja Sem Tarja']:\n",
        "    return 'Sem Tarja'\n",
        "\n",
        "datasetMed['TARJA'] = datasetMed['TARJA'].apply(map_tarjas)\n",
        "datasetMed['TARJA'].unique()"
      ],
      "metadata": {
        "colab": {
          "base_uri": "https://localhost:8080/"
        },
        "id": "0y5huJxBD-_V",
        "outputId": "cd5ebb93-9376-453a-8f06-e3ec020ed335"
      },
      "execution_count": 10,
      "outputs": [
        {
          "output_type": "execute_result",
          "data": {
            "text/plain": [
              "array(['Tarja Vermelha', 'Tarja Preta', 'Sem Tarja'], dtype=object)"
            ]
          },
          "metadata": {},
          "execution_count": 10
        }
      ]
    },
    {
      "cell_type": "markdown",
      "metadata": {
        "id": "acQ5NUl7JgAl"
      },
      "source": [
        "# **Análises**"
      ]
    },
    {
      "cell_type": "markdown",
      "metadata": {
        "id": "BxRHIhHKzuEb"
      },
      "source": [
        "### **Utils**"
      ]
    },
    {
      "cell_type": "code",
      "execution_count": 11,
      "metadata": {
        "id": "_Ru_rv-pzyAX",
        "colab": {
          "base_uri": "https://localhost:8080/"
        },
        "outputId": "e8007f93-dbc5-412c-8f38-3aa090dd8703"
      },
      "outputs": [
        {
          "output_type": "execute_result",
          "data": {
            "text/plain": [
              "Index(['SUBSTÂNCIA', 'CNPJ', 'LABORATÓRIO', 'CÓDIGO GGREM', 'REGISTRO',\n",
              "       'EAN 1', 'PRODUTO', 'APRESENTAÇÃO', 'CLASSE TERAPÊUTICA',\n",
              "       'TIPO DE PRODUTO (STATUS DO PRODUTO)', 'REGIME DE PREÇO',\n",
              "       'PF Sem Impostos', 'PF 0%', 'PF 12%', 'PF 17%', 'PF 17% ALC',\n",
              "       'PF 17,5%', 'PF 17,5% ALC', 'PF 18%', 'PF 18% ALC', 'PF 20%', 'PMC 0%',\n",
              "       'PMC 12%', 'PMC 17%', 'PMC 17% ALC', 'PMC 17,5%', 'PMC 17,5% ALC',\n",
              "       'PMC 18%', 'PMC 18% ALC', 'PMC 20%', 'RESTRIÇÃO HOSPITALAR', 'CAP',\n",
              "       'CONFAZ 87', 'ICMS 0%',\n",
              "       'LISTA DE CONCESSÃO DE CRÉDITO TRIBUTÁRIO (PIS/COFINS)',\n",
              "       'COMERCIALIZAÇÃO 2020', 'TARJA'],\n",
              "      dtype='object')"
            ]
          },
          "metadata": {},
          "execution_count": 11
        }
      ],
      "source": [
        "#Colunas do dataset\n",
        "datasetMed.columns"
      ]
    },
    {
      "cell_type": "markdown",
      "source": [
        "É importante citar algumas notas presentes no dataset usado.\n",
        "\n",
        "As alícotas são um percentual usado para calcular o valor final de um imposto que deve ser pago por uma pessoa física ou jurídica. No Brasil, cada estado tem sua própria alíquota:\n",
        "\n",
        "*   ICMS 20% - RJ\n",
        "*   ICMS 18% - AM, BA, CE, MA, MG, PB, PE, PI, PR, RN, SE, SP.\n",
        "*   ICMS 17,5% - RO e RO.\n",
        "\n",
        "\n",
        "\n"
      ],
      "metadata": {
        "id": "vt6rExbZnYrH"
      }
    },
    {
      "cell_type": "markdown",
      "metadata": {
        "id": "cfRenNaEJptc"
      },
      "source": [
        "###**1)** Qual a quantididade de remédios autorizados no Brasil?"
      ]
    },
    {
      "cell_type": "code",
      "execution_count": 58,
      "metadata": {
        "id": "ywWjKeayJoib",
        "colab": {
          "base_uri": "https://localhost:8080/"
        },
        "outputId": "5807e83f-22af-460e-8d84-fc9ddcd4ae9e"
      },
      "outputs": [
        {
          "output_type": "stream",
          "name": "stdout",
          "text": [
            "Foram autorizados 29720 medicamentos.\n"
          ]
        }
      ],
      "source": [
        "quantRemedios = datasetMedCons['NOME_PRODUTO'].count()\n",
        "quantRemedios\n",
        "print('Foram autorizados {} medicamentos.'.format(quantRemedios))\n",
        "#print('\\n'.join(nomesRemedios))"
      ]
    },
    {
      "cell_type": "markdown",
      "metadata": {
        "id": "nJJUjx-1TGwJ"
      },
      "source": [
        "###**2)** Qual a quantidade de remédios fornecidos por laboratório?"
      ]
    },
    {
      "cell_type": "code",
      "execution_count": 13,
      "metadata": {
        "id": "KweOFy5NTMes"
      },
      "outputs": [],
      "source": [
        "quantidade = datasetMed\n",
        "quantidade = quantidade.groupby('LABORATÓRIO')['SUBSTÂNCIA'].count().tolist()"
      ]
    },
    {
      "cell_type": "code",
      "execution_count": 14,
      "metadata": {
        "id": "sXyPsBnzcUtk",
        "colab": {
          "base_uri": "https://localhost:8080/",
          "height": 424
        },
        "outputId": "ad1b2105-361b-4086-cdd3-201d8ef876da"
      },
      "outputs": [
        {
          "output_type": "execute_result",
          "data": {
            "text/plain": [
              "                                 Laboratório  Quantidade\n",
              "0         1FARMA INDUSTRIA FARMACEUTICA LTDA         108\n",
              "1         ABBOTT LABORATÓRIOS DO BRASIL LTDA         234\n",
              "2                  ABBVIE FARMACÊUTICA LTDA.          36\n",
              "3                   ACCORD FARMACÊUTICA LTDA         292\n",
              "4        ACHÉ LABORATÓRIOS FARMACÊUTICOS S.A        1183\n",
              "..                                       ...         ...\n",
              "266                        WASSER FARMA LTDA           3\n",
              "267        WYETH INDÚSTRIA FARMACÊUTICA LTDA         269\n",
              "268  ZAMBON LABORATÓRIOS FARMACÊUTICOS LTDA.          50\n",
              "269        ZODIAC PRODUTOS FARMACÊUTICOS S/A         194\n",
              "270           ZYDUS NIKKHO FARMACÊUTICA LTDA         116\n",
              "\n",
              "[271 rows x 2 columns]"
            ],
            "text/html": [
              "\n",
              "  <div id=\"df-900bfa87-8de5-4784-8ce4-a01d3828916a\">\n",
              "    <div class=\"colab-df-container\">\n",
              "      <div>\n",
              "<style scoped>\n",
              "    .dataframe tbody tr th:only-of-type {\n",
              "        vertical-align: middle;\n",
              "    }\n",
              "\n",
              "    .dataframe tbody tr th {\n",
              "        vertical-align: top;\n",
              "    }\n",
              "\n",
              "    .dataframe thead th {\n",
              "        text-align: right;\n",
              "    }\n",
              "</style>\n",
              "<table border=\"1\" class=\"dataframe\">\n",
              "  <thead>\n",
              "    <tr style=\"text-align: right;\">\n",
              "      <th></th>\n",
              "      <th>Laboratório</th>\n",
              "      <th>Quantidade</th>\n",
              "    </tr>\n",
              "  </thead>\n",
              "  <tbody>\n",
              "    <tr>\n",
              "      <th>0</th>\n",
              "      <td>1FARMA INDUSTRIA FARMACEUTICA LTDA</td>\n",
              "      <td>108</td>\n",
              "    </tr>\n",
              "    <tr>\n",
              "      <th>1</th>\n",
              "      <td>ABBOTT LABORATÓRIOS DO BRASIL LTDA</td>\n",
              "      <td>234</td>\n",
              "    </tr>\n",
              "    <tr>\n",
              "      <th>2</th>\n",
              "      <td>ABBVIE FARMACÊUTICA LTDA.</td>\n",
              "      <td>36</td>\n",
              "    </tr>\n",
              "    <tr>\n",
              "      <th>3</th>\n",
              "      <td>ACCORD FARMACÊUTICA LTDA</td>\n",
              "      <td>292</td>\n",
              "    </tr>\n",
              "    <tr>\n",
              "      <th>4</th>\n",
              "      <td>ACHÉ LABORATÓRIOS FARMACÊUTICOS S.A</td>\n",
              "      <td>1183</td>\n",
              "    </tr>\n",
              "    <tr>\n",
              "      <th>...</th>\n",
              "      <td>...</td>\n",
              "      <td>...</td>\n",
              "    </tr>\n",
              "    <tr>\n",
              "      <th>266</th>\n",
              "      <td>WASSER FARMA LTDA</td>\n",
              "      <td>3</td>\n",
              "    </tr>\n",
              "    <tr>\n",
              "      <th>267</th>\n",
              "      <td>WYETH INDÚSTRIA FARMACÊUTICA LTDA</td>\n",
              "      <td>269</td>\n",
              "    </tr>\n",
              "    <tr>\n",
              "      <th>268</th>\n",
              "      <td>ZAMBON LABORATÓRIOS FARMACÊUTICOS LTDA.</td>\n",
              "      <td>50</td>\n",
              "    </tr>\n",
              "    <tr>\n",
              "      <th>269</th>\n",
              "      <td>ZODIAC PRODUTOS FARMACÊUTICOS S/A</td>\n",
              "      <td>194</td>\n",
              "    </tr>\n",
              "    <tr>\n",
              "      <th>270</th>\n",
              "      <td>ZYDUS NIKKHO FARMACÊUTICA LTDA</td>\n",
              "      <td>116</td>\n",
              "    </tr>\n",
              "  </tbody>\n",
              "</table>\n",
              "<p>271 rows × 2 columns</p>\n",
              "</div>\n",
              "      <button class=\"colab-df-convert\" onclick=\"convertToInteractive('df-900bfa87-8de5-4784-8ce4-a01d3828916a')\"\n",
              "              title=\"Convert this dataframe to an interactive table.\"\n",
              "              style=\"display:none;\">\n",
              "        \n",
              "  <svg xmlns=\"http://www.w3.org/2000/svg\" height=\"24px\"viewBox=\"0 0 24 24\"\n",
              "       width=\"24px\">\n",
              "    <path d=\"M0 0h24v24H0V0z\" fill=\"none\"/>\n",
              "    <path d=\"M18.56 5.44l.94 2.06.94-2.06 2.06-.94-2.06-.94-.94-2.06-.94 2.06-2.06.94zm-11 1L8.5 8.5l.94-2.06 2.06-.94-2.06-.94L8.5 2.5l-.94 2.06-2.06.94zm10 10l.94 2.06.94-2.06 2.06-.94-2.06-.94-.94-2.06-.94 2.06-2.06.94z\"/><path d=\"M17.41 7.96l-1.37-1.37c-.4-.4-.92-.59-1.43-.59-.52 0-1.04.2-1.43.59L10.3 9.45l-7.72 7.72c-.78.78-.78 2.05 0 2.83L4 21.41c.39.39.9.59 1.41.59.51 0 1.02-.2 1.41-.59l7.78-7.78 2.81-2.81c.8-.78.8-2.07 0-2.86zM5.41 20L4 18.59l7.72-7.72 1.47 1.35L5.41 20z\"/>\n",
              "  </svg>\n",
              "      </button>\n",
              "      \n",
              "  <style>\n",
              "    .colab-df-container {\n",
              "      display:flex;\n",
              "      flex-wrap:wrap;\n",
              "      gap: 12px;\n",
              "    }\n",
              "\n",
              "    .colab-df-convert {\n",
              "      background-color: #E8F0FE;\n",
              "      border: none;\n",
              "      border-radius: 50%;\n",
              "      cursor: pointer;\n",
              "      display: none;\n",
              "      fill: #1967D2;\n",
              "      height: 32px;\n",
              "      padding: 0 0 0 0;\n",
              "      width: 32px;\n",
              "    }\n",
              "\n",
              "    .colab-df-convert:hover {\n",
              "      background-color: #E2EBFA;\n",
              "      box-shadow: 0px 1px 2px rgba(60, 64, 67, 0.3), 0px 1px 3px 1px rgba(60, 64, 67, 0.15);\n",
              "      fill: #174EA6;\n",
              "    }\n",
              "\n",
              "    [theme=dark] .colab-df-convert {\n",
              "      background-color: #3B4455;\n",
              "      fill: #D2E3FC;\n",
              "    }\n",
              "\n",
              "    [theme=dark] .colab-df-convert:hover {\n",
              "      background-color: #434B5C;\n",
              "      box-shadow: 0px 1px 3px 1px rgba(0, 0, 0, 0.15);\n",
              "      filter: drop-shadow(0px 1px 2px rgba(0, 0, 0, 0.3));\n",
              "      fill: #FFFFFF;\n",
              "    }\n",
              "  </style>\n",
              "\n",
              "      <script>\n",
              "        const buttonEl =\n",
              "          document.querySelector('#df-900bfa87-8de5-4784-8ce4-a01d3828916a button.colab-df-convert');\n",
              "        buttonEl.style.display =\n",
              "          google.colab.kernel.accessAllowed ? 'block' : 'none';\n",
              "\n",
              "        async function convertToInteractive(key) {\n",
              "          const element = document.querySelector('#df-900bfa87-8de5-4784-8ce4-a01d3828916a');\n",
              "          const dataTable =\n",
              "            await google.colab.kernel.invokeFunction('convertToInteractive',\n",
              "                                                     [key], {});\n",
              "          if (!dataTable) return;\n",
              "\n",
              "          const docLinkHtml = 'Like what you see? Visit the ' +\n",
              "            '<a target=\"_blank\" href=https://colab.research.google.com/notebooks/data_table.ipynb>data table notebook</a>'\n",
              "            + ' to learn more about interactive tables.';\n",
              "          element.innerHTML = '';\n",
              "          dataTable['output_type'] = 'display_data';\n",
              "          await google.colab.output.renderOutput(dataTable, element);\n",
              "          const docLink = document.createElement('div');\n",
              "          docLink.innerHTML = docLinkHtml;\n",
              "          element.appendChild(docLink);\n",
              "        }\n",
              "      </script>\n",
              "    </div>\n",
              "  </div>\n",
              "  "
            ]
          },
          "metadata": {},
          "execution_count": 14
        }
      ],
      "source": [
        "nomesLabs = sorted(datasetMed['LABORATÓRIO'].unique())\n",
        "nomesLabs\n",
        "lab_quantidade = pd.DataFrame({'Laboratório': nomesLabs,\n",
        "                   'Quantidade': quantidade})\n",
        "lab_quantidade"
      ]
    },
    {
      "cell_type": "markdown",
      "metadata": {
        "id": "Q4PsYN8TT-cw"
      },
      "source": [
        "###**3)** Qual laboratório possui maior quantidade de remédios autorizados?"
      ]
    },
    {
      "cell_type": "code",
      "execution_count": 15,
      "metadata": {
        "id": "QG2q25t0UHIW",
        "colab": {
          "base_uri": "https://localhost:8080/",
          "height": 81
        },
        "outputId": "a8976dc8-0edf-445b-af10-b0e074f613c0"
      },
      "outputs": [
        {
          "output_type": "execute_result",
          "data": {
            "text/plain": [
              "   Laboratório  Quantidade\n",
              "80     EMS S/A        1574"
            ],
            "text/html": [
              "\n",
              "  <div id=\"df-6af1b3c4-7d8b-4a3b-ae58-e4513b648f43\">\n",
              "    <div class=\"colab-df-container\">\n",
              "      <div>\n",
              "<style scoped>\n",
              "    .dataframe tbody tr th:only-of-type {\n",
              "        vertical-align: middle;\n",
              "    }\n",
              "\n",
              "    .dataframe tbody tr th {\n",
              "        vertical-align: top;\n",
              "    }\n",
              "\n",
              "    .dataframe thead th {\n",
              "        text-align: right;\n",
              "    }\n",
              "</style>\n",
              "<table border=\"1\" class=\"dataframe\">\n",
              "  <thead>\n",
              "    <tr style=\"text-align: right;\">\n",
              "      <th></th>\n",
              "      <th>Laboratório</th>\n",
              "      <th>Quantidade</th>\n",
              "    </tr>\n",
              "  </thead>\n",
              "  <tbody>\n",
              "    <tr>\n",
              "      <th>80</th>\n",
              "      <td>EMS S/A</td>\n",
              "      <td>1574</td>\n",
              "    </tr>\n",
              "  </tbody>\n",
              "</table>\n",
              "</div>\n",
              "      <button class=\"colab-df-convert\" onclick=\"convertToInteractive('df-6af1b3c4-7d8b-4a3b-ae58-e4513b648f43')\"\n",
              "              title=\"Convert this dataframe to an interactive table.\"\n",
              "              style=\"display:none;\">\n",
              "        \n",
              "  <svg xmlns=\"http://www.w3.org/2000/svg\" height=\"24px\"viewBox=\"0 0 24 24\"\n",
              "       width=\"24px\">\n",
              "    <path d=\"M0 0h24v24H0V0z\" fill=\"none\"/>\n",
              "    <path d=\"M18.56 5.44l.94 2.06.94-2.06 2.06-.94-2.06-.94-.94-2.06-.94 2.06-2.06.94zm-11 1L8.5 8.5l.94-2.06 2.06-.94-2.06-.94L8.5 2.5l-.94 2.06-2.06.94zm10 10l.94 2.06.94-2.06 2.06-.94-2.06-.94-.94-2.06-.94 2.06-2.06.94z\"/><path d=\"M17.41 7.96l-1.37-1.37c-.4-.4-.92-.59-1.43-.59-.52 0-1.04.2-1.43.59L10.3 9.45l-7.72 7.72c-.78.78-.78 2.05 0 2.83L4 21.41c.39.39.9.59 1.41.59.51 0 1.02-.2 1.41-.59l7.78-7.78 2.81-2.81c.8-.78.8-2.07 0-2.86zM5.41 20L4 18.59l7.72-7.72 1.47 1.35L5.41 20z\"/>\n",
              "  </svg>\n",
              "      </button>\n",
              "      \n",
              "  <style>\n",
              "    .colab-df-container {\n",
              "      display:flex;\n",
              "      flex-wrap:wrap;\n",
              "      gap: 12px;\n",
              "    }\n",
              "\n",
              "    .colab-df-convert {\n",
              "      background-color: #E8F0FE;\n",
              "      border: none;\n",
              "      border-radius: 50%;\n",
              "      cursor: pointer;\n",
              "      display: none;\n",
              "      fill: #1967D2;\n",
              "      height: 32px;\n",
              "      padding: 0 0 0 0;\n",
              "      width: 32px;\n",
              "    }\n",
              "\n",
              "    .colab-df-convert:hover {\n",
              "      background-color: #E2EBFA;\n",
              "      box-shadow: 0px 1px 2px rgba(60, 64, 67, 0.3), 0px 1px 3px 1px rgba(60, 64, 67, 0.15);\n",
              "      fill: #174EA6;\n",
              "    }\n",
              "\n",
              "    [theme=dark] .colab-df-convert {\n",
              "      background-color: #3B4455;\n",
              "      fill: #D2E3FC;\n",
              "    }\n",
              "\n",
              "    [theme=dark] .colab-df-convert:hover {\n",
              "      background-color: #434B5C;\n",
              "      box-shadow: 0px 1px 3px 1px rgba(0, 0, 0, 0.15);\n",
              "      filter: drop-shadow(0px 1px 2px rgba(0, 0, 0, 0.3));\n",
              "      fill: #FFFFFF;\n",
              "    }\n",
              "  </style>\n",
              "\n",
              "      <script>\n",
              "        const buttonEl =\n",
              "          document.querySelector('#df-6af1b3c4-7d8b-4a3b-ae58-e4513b648f43 button.colab-df-convert');\n",
              "        buttonEl.style.display =\n",
              "          google.colab.kernel.accessAllowed ? 'block' : 'none';\n",
              "\n",
              "        async function convertToInteractive(key) {\n",
              "          const element = document.querySelector('#df-6af1b3c4-7d8b-4a3b-ae58-e4513b648f43');\n",
              "          const dataTable =\n",
              "            await google.colab.kernel.invokeFunction('convertToInteractive',\n",
              "                                                     [key], {});\n",
              "          if (!dataTable) return;\n",
              "\n",
              "          const docLinkHtml = 'Like what you see? Visit the ' +\n",
              "            '<a target=\"_blank\" href=https://colab.research.google.com/notebooks/data_table.ipynb>data table notebook</a>'\n",
              "            + ' to learn more about interactive tables.';\n",
              "          element.innerHTML = '';\n",
              "          dataTable['output_type'] = 'display_data';\n",
              "          await google.colab.output.renderOutput(dataTable, element);\n",
              "          const docLink = document.createElement('div');\n",
              "          docLink.innerHTML = docLinkHtml;\n",
              "          element.appendChild(docLink);\n",
              "        }\n",
              "      </script>\n",
              "    </div>\n",
              "  </div>\n",
              "  "
            ]
          },
          "metadata": {},
          "execution_count": 15
        }
      ],
      "source": [
        "lab_mais_remedios = lab_quantidade.sort_values(by='Quantidade', ascending=False)\n",
        "lab_mais_remedios.head(1)"
      ]
    },
    {
      "cell_type": "markdown",
      "metadata": {
        "id": "hncQam98U4Xz"
      },
      "source": [
        "### **4)** Qual a quantidade de remédios por tipo de tarja?"
      ]
    },
    {
      "cell_type": "code",
      "execution_count": 16,
      "metadata": {
        "id": "Y0NeVMOUU8j4",
        "colab": {
          "base_uri": "https://localhost:8080/"
        },
        "outputId": "d821282f-3751-49f4-d0c1-2d7f66b74fcc"
      },
      "outputs": [
        {
          "output_type": "execute_result",
          "data": {
            "text/plain": [
              "array(['Tarja Vermelha', 'Tarja Preta', 'Sem Tarja'], dtype=object)"
            ]
          },
          "metadata": {},
          "execution_count": 16
        }
      ],
      "source": [
        "tarjas = datasetMed['TARJA'].unique()\n",
        "tarjas"
      ]
    },
    {
      "cell_type": "markdown",
      "metadata": {
        "id": "MAGbWNOhi9-Q"
      },
      "source": [
        "**Com os dados tratados, podemos seguir com a análise.**"
      ]
    },
    {
      "cell_type": "code",
      "execution_count": 17,
      "metadata": {
        "id": "1C0sTAewtZS8",
        "colab": {
          "base_uri": "https://localhost:8080/"
        },
        "outputId": "d396a989-05e2-4c0f-b31b-9e6cec8d4635"
      },
      "outputs": [
        {
          "output_type": "execute_result",
          "data": {
            "text/plain": [
              "TARJA\n",
              "Sem Tarja          4712\n",
              "Tarja Preta         551\n",
              "Tarja Vermelha    21934\n",
              "Name: TARJA, dtype: int64"
            ]
          },
          "metadata": {},
          "execution_count": 17
        }
      ],
      "source": [
        "quantidade_tarja = datasetMed\n",
        "quantidade_tarja = quantidade_tarja.groupby('TARJA')['TARJA'].count()\n",
        "quantidade_tarja"
      ]
    },
    {
      "cell_type": "code",
      "execution_count": 18,
      "metadata": {
        "id": "1FSeIgGQu9KS",
        "colab": {
          "base_uri": "https://localhost:8080/",
          "height": 329
        },
        "outputId": "cbfdf24e-5b16-444b-e1dc-f9be58c81815"
      },
      "outputs": [
        {
          "output_type": "display_data",
          "data": {
            "text/plain": [
              "<Figure size 432x288 with 1 Axes>"
            ],
            "image/png": "[encoded data removed]"
          },
          "metadata": {
            "needs_background": "light"
          }
        }
      ],
      "source": [
        "quantidade_tarja.plot.bar()\n",
        "plt.xticks(rotation = 45)\n",
        "plt.show()"
      ]
    },
    {
      "cell_type": "markdown",
      "metadata": {
        "id": "KX-QGphyvB5T"
      },
      "source": [
        "### **5)** Qual a média do preço ao consumidor em cada estado do sudeste (MG/SP 18%; RJ 20%; ES 17%)?"
      ]
    },
    {
      "cell_type": "markdown",
      "metadata": {
        "id": "XMXlbGefynVt"
      },
      "source": [
        "**Tratamento dos dados**\n",
        "<p>Primeiramente, temos que remover todas as linhas cujas colunas PMC 17%, 18% ou 20% são nulas. Isso será necessário para que não haja viés na média calculada, mesmo perdendo parte dos dados.</p>"
      ]
    },
    {
      "cell_type": "code",
      "execution_count": 59,
      "metadata": {
        "id": "c891Xoxwy_xe"
      },
      "outputs": [],
      "source": [
        "dfDatasetMed = datasetMed\n",
        "dfDatasetMed = dfDatasetMed[dfDatasetMed['PMC 17%'].notna()]\n",
        "dfDatasetMed = dfDatasetMed[dfDatasetMed['PMC 18%'].notna()]\n",
        "dfDatasetMed = dfDatasetMed[dfDatasetMed['PMC 20%'].notna()]"
      ]
    },
    {
      "cell_type": "markdown",
      "metadata": {
        "id": "TJSTns1X0ONn"
      },
      "source": [
        "**Observamos a porcentagem de perda de dados**"
      ]
    },
    {
      "cell_type": "code",
      "execution_count": 20,
      "metadata": {
        "id": "HGY2iVt62_Tl",
        "colab": {
          "base_uri": "https://localhost:8080/"
        },
        "outputId": "1fcdd45d-5bb1-436e-bd80-85dc6267c642"
      },
      "outputs": [
        {
          "output_type": "stream",
          "name": "stdout",
          "text": [
            "Antes:  27197 \n",
            "Depois: 22376\n"
          ]
        }
      ],
      "source": [
        "original= len(datasetMed.index)\n",
        "novo = len(dfDatasetMed.index)\n",
        "print(\"Antes: \",original, \"\\nDepois:\",novo)"
      ]
    },
    {
      "cell_type": "code",
      "execution_count": 21,
      "metadata": {
        "id": "3SyoXkB90NmW",
        "colab": {
          "base_uri": "https://localhost:8080/"
        },
        "outputId": "fee3c7c0-307b-4336-a53b-8bc0bee38c46"
      },
      "outputs": [
        {
          "output_type": "stream",
          "name": "stdout",
          "text": [
            "0.82 %\n"
          ]
        }
      ],
      "source": [
        "perda = (len(dfDatasetMed.index * 100)/len(datasetMed.index))\n",
        "print(round(perda,2),\"%\")"
      ]
    },
    {
      "cell_type": "markdown",
      "metadata": {
        "id": "jnCQNmmi32uE"
      },
      "source": [
        "**Realizando a análise sobre os dados**"
      ]
    },
    {
      "cell_type": "code",
      "execution_count": 22,
      "metadata": {
        "id": "13DOURir356m",
        "colab": {
          "base_uri": "https://localhost:8080/",
          "height": 161
        },
        "outputId": "3b3c862d-8cb8-4b7d-f9e6-df3d7ccb191f"
      },
      "outputs": [
        {
          "output_type": "stream",
          "name": "stdout",
          "text": [
            "1082 1096 1125\n"
          ]
        },
        {
          "output_type": "execute_result",
          "data": {
            "text/plain": [
              "     Estado  Média\n",
              "ES       ES   1082\n",
              "MGSP   MGSP   1096\n",
              "RJ       RJ   1125"
            ],
            "text/html": [
              "\n",
              "  <div id=\"df-4c9e00b4-b604-43af-8812-3dcee24b0459\">\n",
              "    <div class=\"colab-df-container\">\n",
              "      <div>\n",
              "<style scoped>\n",
              "    .dataframe tbody tr th:only-of-type {\n",
              "        vertical-align: middle;\n",
              "    }\n",
              "\n",
              "    .dataframe tbody tr th {\n",
              "        vertical-align: top;\n",
              "    }\n",
              "\n",
              "    .dataframe thead th {\n",
              "        text-align: right;\n",
              "    }\n",
              "</style>\n",
              "<table border=\"1\" class=\"dataframe\">\n",
              "  <thead>\n",
              "    <tr style=\"text-align: right;\">\n",
              "      <th></th>\n",
              "      <th>Estado</th>\n",
              "      <th>Média</th>\n",
              "    </tr>\n",
              "  </thead>\n",
              "  <tbody>\n",
              "    <tr>\n",
              "      <th>ES</th>\n",
              "      <td>ES</td>\n",
              "      <td>1082</td>\n",
              "    </tr>\n",
              "    <tr>\n",
              "      <th>MGSP</th>\n",
              "      <td>MGSP</td>\n",
              "      <td>1096</td>\n",
              "    </tr>\n",
              "    <tr>\n",
              "      <th>RJ</th>\n",
              "      <td>RJ</td>\n",
              "      <td>1125</td>\n",
              "    </tr>\n",
              "  </tbody>\n",
              "</table>\n",
              "</div>\n",
              "      <button class=\"colab-df-convert\" onclick=\"convertToInteractive('df-4c9e00b4-b604-43af-8812-3dcee24b0459')\"\n",
              "              title=\"Convert this dataframe to an interactive table.\"\n",
              "              style=\"display:none;\">\n",
              "        \n",
              "  <svg xmlns=\"http://www.w3.org/2000/svg\" height=\"24px\"viewBox=\"0 0 24 24\"\n",
              "       width=\"24px\">\n",
              "    <path d=\"M0 0h24v24H0V0z\" fill=\"none\"/>\n",
              "    <path d=\"M18.56 5.44l.94 2.06.94-2.06 2.06-.94-2.06-.94-.94-2.06-.94 2.06-2.06.94zm-11 1L8.5 8.5l.94-2.06 2.06-.94-2.06-.94L8.5 2.5l-.94 2.06-2.06.94zm10 10l.94 2.06.94-2.06 2.06-.94-2.06-.94-.94-2.06-.94 2.06-2.06.94z\"/><path d=\"M17.41 7.96l-1.37-1.37c-.4-.4-.92-.59-1.43-.59-.52 0-1.04.2-1.43.59L10.3 9.45l-7.72 7.72c-.78.78-.78 2.05 0 2.83L4 21.41c.39.39.9.59 1.41.59.51 0 1.02-.2 1.41-.59l7.78-7.78 2.81-2.81c.8-.78.8-2.07 0-2.86zM5.41 20L4 18.59l7.72-7.72 1.47 1.35L5.41 20z\"/>\n",
              "  </svg>\n",
              "      </button>\n",
              "      \n",
              "  <style>\n",
              "    .colab-df-container {\n",
              "      display:flex;\n",
              "      flex-wrap:wrap;\n",
              "      gap: 12px;\n",
              "    }\n",
              "\n",
              "    .colab-df-convert {\n",
              "      background-color: #E8F0FE;\n",
              "      border: none;\n",
              "      border-radius: 50%;\n",
              "      cursor: pointer;\n",
              "      display: none;\n",
              "      fill: #1967D2;\n",
              "      height: 32px;\n",
              "      padding: 0 0 0 0;\n",
              "      width: 32px;\n",
              "    }\n",
              "\n",
              "    .colab-df-convert:hover {\n",
              "      background-color: #E2EBFA;\n",
              "      box-shadow: 0px 1px 2px rgba(60, 64, 67, 0.3), 0px 1px 3px 1px rgba(60, 64, 67, 0.15);\n",
              "      fill: #174EA6;\n",
              "    }\n",
              "\n",
              "    [theme=dark] .colab-df-convert {\n",
              "      background-color: #3B4455;\n",
              "      fill: #D2E3FC;\n",
              "    }\n",
              "\n",
              "    [theme=dark] .colab-df-convert:hover {\n",
              "      background-color: #434B5C;\n",
              "      box-shadow: 0px 1px 3px 1px rgba(0, 0, 0, 0.15);\n",
              "      filter: drop-shadow(0px 1px 2px rgba(0, 0, 0, 0.3));\n",
              "      fill: #FFFFFF;\n",
              "    }\n",
              "  </style>\n",
              "\n",
              "      <script>\n",
              "        const buttonEl =\n",
              "          document.querySelector('#df-4c9e00b4-b604-43af-8812-3dcee24b0459 button.colab-df-convert');\n",
              "        buttonEl.style.display =\n",
              "          google.colab.kernel.accessAllowed ? 'block' : 'none';\n",
              "\n",
              "        async function convertToInteractive(key) {\n",
              "          const element = document.querySelector('#df-4c9e00b4-b604-43af-8812-3dcee24b0459');\n",
              "          const dataTable =\n",
              "            await google.colab.kernel.invokeFunction('convertToInteractive',\n",
              "                                                     [key], {});\n",
              "          if (!dataTable) return;\n",
              "\n",
              "          const docLinkHtml = 'Like what you see? Visit the ' +\n",
              "            '<a target=\"_blank\" href=https://colab.research.google.com/notebooks/data_table.ipynb>data table notebook</a>'\n",
              "            + ' to learn more about interactive tables.';\n",
              "          element.innerHTML = '';\n",
              "          dataTable['output_type'] = 'display_data';\n",
              "          await google.colab.output.renderOutput(dataTable, element);\n",
              "          const docLink = document.createElement('div');\n",
              "          docLink.innerHTML = docLinkHtml;\n",
              "          element.appendChild(docLink);\n",
              "        }\n",
              "      </script>\n",
              "    </div>\n",
              "  </div>\n",
              "  "
            ]
          },
          "metadata": {},
          "execution_count": 22
        }
      ],
      "source": [
        "ES = int(datasetMed['PMC 17%'].mean())\n",
        "MGSP = int(datasetMed['PMC 18%'].mean())\n",
        "RJ = int(datasetMed['PMC 20%'].mean())\n",
        "print(ES, MGSP, RJ)\n",
        "\n",
        "estadosMedia = pd.DataFrame({'Estado': [\"ES\", \"MGSP\", \"RJ\"],'Média':[ES, MGSP, RJ]}, index=[\"ES\", \"MGSP\", \"RJ\"])\n",
        "\n",
        "estadosMedia\n",
        "#RJ = datasetMed['PMC 20%'].mean()"
      ]
    },
    {
      "cell_type": "markdown",
      "source": [
        "Como é possível ver, os valores são muito próximos. Plotando um gráfico de barras, temos:"
      ],
      "metadata": {
        "id": "gLLv31qAkezK"
      }
    },
    {
      "cell_type": "code",
      "source": [
        "graph = plt.bar(estadosMedia['Estado'],estadosMedia['Média'], color=['pink','green','red'])\n",
        "plt.show()"
      ],
      "metadata": {
        "id": "7RxmSBXtmA_K",
        "colab": {
          "base_uri": "https://localhost:8080/",
          "height": 265
        },
        "outputId": "98d4d7c4-f115-4dc8-a7c7-09f00f1bcf32"
      },
      "execution_count": 23,
      "outputs": [
        {
          "output_type": "display_data",
          "data": {
            "text/plain": [
              "<Figure size 432x288 with 1 Axes>"
            ],
            "image/png": "[encoded data removed]"
          },
          "metadata": {
            "needs_background": "light"
          }
        }
      ]
    },
    {
      "cell_type": "markdown",
      "source": [
        "Como é possível ver, os valores obtidos são muito próximos, o que dificulta a visualização no gráfico. Alterando a escala no eixo y para logarítmica, será possível enxergar melhor essa diferença."
      ],
      "metadata": {
        "id": "77eC20pLrEgR"
      }
    },
    {
      "cell_type": "code",
      "source": [
        "graph = plt.bar(estadosMedia['Estado'],estadosMedia['Média'], color=['pink','green','red'])\n",
        "plt.yscale('log')\n",
        "plt.show()"
      ],
      "metadata": {
        "id": "eLoobDngrULr",
        "colab": {
          "base_uri": "https://localhost:8080/",
          "height": 265
        },
        "outputId": "8230ab94-6d46-4b5f-9404-46e6ebc9e59e"
      },
      "execution_count": 24,
      "outputs": [
        {
          "output_type": "display_data",
          "data": {
            "text/plain": [
              "<Figure size 432x288 with 1 Axes>"
            ],
            "image/png": "[encoded data removed]"
          },
          "metadata": {
            "needs_background": "light"
          }
        }
      ]
    },
    {
      "cell_type": "markdown",
      "source": [
        "###**6)** Qual a média de preço de fábrica dos medicamentos tarja vermelha?"
      ],
      "metadata": {
        "id": "Q-uX2XeMXUSk"
      }
    },
    {
      "cell_type": "markdown",
      "source": [
        "Primeiramente temos que pegar apenas os medicamentos com a Tarja Vermelha."
      ],
      "metadata": {
        "id": "N7QIoNIAymvP"
      }
    },
    {
      "cell_type": "code",
      "source": [
        "varTarjaVermelha = datasetMed[datasetMed['TARJA'] == 'Tarja Vermelha']"
      ],
      "metadata": {
        "id": "Kr31ZpAlylOr"
      },
      "execution_count": 25,
      "outputs": []
    },
    {
      "cell_type": "markdown",
      "source": [
        "Após mostrar apenas os medicamentos com tarja Vermelha, a quantidade de dados obtidos é mostrado abaixo."
      ],
      "metadata": {
        "id": "ecoS1eXZy_k1"
      }
    },
    {
      "cell_type": "code",
      "source": [
        "novo = len(varTarjaVermelha.index)\n",
        "print(\"Quantidade de Remédios com a Tarja Vermelha:\",novo)"
      ],
      "metadata": {
        "id": "msqg0b2tzXXq",
        "colab": {
          "base_uri": "https://localhost:8080/"
        },
        "outputId": "aaf0ef3d-6260-4c5e-8aa5-0c79460a9628"
      },
      "execution_count": 26,
      "outputs": [
        {
          "output_type": "stream",
          "name": "stdout",
          "text": [
            "Quantidade de Remédios com a Tarja Vermelha: 21934\n"
          ]
        }
      ]
    },
    {
      "cell_type": "markdown",
      "source": [
        "Agora analisando a média, mediana e moda."
      ],
      "metadata": {
        "id": "gv_KXp5Fz4Cc"
      }
    },
    {
      "cell_type": "code",
      "source": [
        "varTarjaVermelha = datasetMed[datasetMed['TARJA'] == 'Tarja Vermelha']\n",
        "\n",
        "mediaTarjaVermelha = varTarjaVermelha['PF 0%'].mean()\n",
        "modaTarjaVermelha = varTarjaVermelha['PF 0%'].mode()\n",
        "medianaTarjaVermelha = varTarjaVermelha['PF 0%'].median()\n",
        "print(\"Média: \", round(mediaTarjaVermelha,2))\n",
        "print(\"Moda: \", modaTarjaVermelha.tolist())\n",
        "print(\"Mediana: \", medianaTarjaVermelha)"
      ],
      "metadata": {
        "id": "pK3sr9S_Zsir",
        "colab": {
          "base_uri": "https://localhost:8080/"
        },
        "outputId": "1712af5a-ad1d-44bf-8d06-9108cd34704e"
      },
      "execution_count": 27,
      "outputs": [
        {
          "output_type": "stream",
          "name": "stdout",
          "text": [
            "Média:  8467.46\n",
            "Moda:  [66.1, 7197166.63]\n",
            "Mediana:  73.105\n"
          ]
        }
      ]
    },
    {
      "cell_type": "markdown",
      "source": [
        "Ao ver os valores acima, vemos que a média não reflete a real situação dos preços dos medicamentos. Isso pode ser visto pela moda, visto que um produto de mais de 7 milhões de reais aparece com certa frequência.\n",
        "<p>Portanto, podemos dizer que os preços giram em torno de 66 reais levando em consideração a mediana e o primeiro valor da moda, sendo o segundo valor um outlier dos dados</p>"
      ],
      "metadata": {
        "id": "fOwG52HXy3SO"
      }
    },
    {
      "cell_type": "code",
      "source": [
        "varTarjaVermelha.boxplot(column=['PF 0%'])\n",
        "plt.yscale('log')\n",
        "plt.show()"
      ],
      "metadata": {
        "id": "za3mbknCzhmW",
        "colab": {
          "base_uri": "https://localhost:8080/",
          "height": 267
        },
        "outputId": "95d65e35-dc41-43f6-f3dd-9c5bd9c05fee"
      },
      "execution_count": 28,
      "outputs": [
        {
          "output_type": "display_data",
          "data": {
            "text/plain": [
              "<Figure size 432x288 with 1 Axes>"
            ],
            "image/png": "[encoded data removed]"
          },
          "metadata": {
            "needs_background": "light"
          }
        }
      ]
    },
    {
      "cell_type": "markdown",
      "source": [
        "Vemos que os valores são muito dispersos, pois há diversos outliers e com grande distância dos quartis."
      ],
      "metadata": {
        "id": "CS_SFeG20cVJ"
      }
    },
    {
      "cell_type": "markdown",
      "source": [
        "###**7)** Qual a média de preço de fábrica dos medicamentos tarja preta?"
      ],
      "metadata": {
        "id": "oR5NQVN4gMLl"
      }
    },
    {
      "cell_type": "markdown",
      "source": [
        "Em primeira análise, pegamos apenas os medicamentos com a Tarja Preta."
      ],
      "metadata": {
        "id": "fYjwOna60Cbe"
      }
    },
    {
      "cell_type": "code",
      "source": [
        "varTarjaPreta = datasetMed[datasetMed['TARJA'] == 'Tarja Preta']"
      ],
      "metadata": {
        "id": "havW0gtFlBxC"
      },
      "execution_count": 29,
      "outputs": []
    },
    {
      "cell_type": "markdown",
      "source": [
        "Após mostrar apenas os medicamentos com tarja Preta, a quantidade de dados obtidos é mostrado abaixo."
      ],
      "metadata": {
        "id": "DK4pcKMx05ls"
      }
    },
    {
      "cell_type": "code",
      "source": [
        "novo = len(varTarjaPreta.index)\n",
        "print(\"Quantidade de Remédios com a Tarja Preta:\",novo)"
      ],
      "metadata": {
        "id": "sBfheGrZ1Db6",
        "colab": {
          "base_uri": "https://localhost:8080/"
        },
        "outputId": "61dd7d00-dccb-437e-d98e-52b23a5bff4f"
      },
      "execution_count": 30,
      "outputs": [
        {
          "output_type": "stream",
          "name": "stdout",
          "text": [
            "Quantidade de Remédios com a Tarja Preta: 551\n"
          ]
        }
      ]
    },
    {
      "cell_type": "markdown",
      "source": [
        "Agora analisando a média, mediana e a moda."
      ],
      "metadata": {
        "id": "o9zcztV_1UsV"
      }
    },
    {
      "cell_type": "code",
      "source": [
        "varTarjaPreta = datasetMed[datasetMed['TARJA'] == 'Tarja Preta']\n",
        "mediaTarjaPreta = varTarjaPreta['PF 0%'].mean()\n",
        "modaTarjaPreta = varTarjaPreta['PF 0%'].mode()\n",
        "medianaTarjaPreta = varTarjaPreta['PF 0%'].median()\n",
        "desvio = varTarjaPreta['PF 0%'].std()\n",
        "print(\"Média: \", round(mediaTarjaPreta,2))\n",
        "print(\"Moda: \", modaTarjaPreta.tolist())\n",
        "print(\"Mediana: \", medianaTarjaPreta)\n",
        "print(\"Desvio: \", desvio)"
      ],
      "metadata": {
        "id": "WQwy-6cNgd3v",
        "colab": {
          "base_uri": "https://localhost:8080/"
        },
        "outputId": "0caf24e0-db2c-44c7-8f62-64de65fc6afc"
      },
      "execution_count": 31,
      "outputs": [
        {
          "output_type": "stream",
          "name": "stdout",
          "text": [
            "Média:  185.71\n",
            "Moda:  [320.41]\n",
            "Mediana:  48.29\n",
            "Desvio:  565.1703920586581\n"
          ]
        }
      ]
    },
    {
      "cell_type": "markdown",
      "source": [
        "Ao analisar os valores acima, percebe-se que a média não reflete a real situação dos preços dos medicamentos, principalmente quando vamos analisar o desvio."
      ],
      "metadata": {
        "id": "ijCE2Z-B2jOd"
      }
    },
    {
      "cell_type": "code",
      "source": [
        "varTarjaPreta.boxplot(column=['PF 0%'])\n",
        "plt.yscale('log')\n",
        "plt.show()"
      ],
      "metadata": {
        "id": "A8WMdarel_oq",
        "colab": {
          "base_uri": "https://localhost:8080/",
          "height": 265
        },
        "outputId": "ae736ffb-61e4-4303-fcda-fb85785d43a4"
      },
      "execution_count": 32,
      "outputs": [
        {
          "output_type": "display_data",
          "data": {
            "text/plain": [
              "<Figure size 432x288 with 1 Axes>"
            ],
            "image/png": "[encoded data removed]"
          },
          "metadata": {
            "needs_background": "light"
          }
        }
      ]
    },
    {
      "cell_type": "markdown",
      "source": [
        "Analisando o gráfico, vemos que os valores são muito dispersos, pois há diversos outliers e com grande distância dos quartis."
      ],
      "metadata": {
        "id": "FO3qaEgLNrFl"
      }
    },
    {
      "cell_type": "markdown",
      "source": [
        "###**8)** Qual a quantidade de medicamentos com PIS/CONFIS positiva e negativa?"
      ],
      "metadata": {
        "id": "bowpUiHP2yNk"
      }
    },
    {
      "cell_type": "markdown",
      "source": [
        "Em primeira análise, temos o total de dados com PIS/CONFIS positivo ou negativo."
      ],
      "metadata": {
        "id": "X-or7zEfN76h"
      }
    },
    {
      "cell_type": "code",
      "source": [
        "TodosDados = len(datasetMed)\n",
        "print('Quantidade de PIS/COFINS Total:',int(TodosDados))"
      ],
      "metadata": {
        "id": "cA-x4cy9N370",
        "colab": {
          "base_uri": "https://localhost:8080/"
        },
        "outputId": "0a28c8e8-32cd-4028-c0ff-c7c380996bbb"
      },
      "execution_count": 33,
      "outputs": [
        {
          "output_type": "stream",
          "name": "stdout",
          "text": [
            "Quantidade de PIS/COFINS Total: 27197\n"
          ]
        }
      ]
    },
    {
      "cell_type": "markdown",
      "source": [
        "Agora pegando apenas o PIS/CONFIS positivos:"
      ],
      "metadata": {
        "id": "XZUoj10ePX-g"
      }
    },
    {
      "cell_type": "code",
      "source": [
        "varPISCONFIS = datasetMed[datasetMed['LISTA DE CONCESSÃO DE CRÉDITO TRIBUTÁRIO (PIS/COFINS)'] == 'Positiva']\n",
        "varPISCONFIS\n",
        "quantidade = len(varPISCONFIS)\n",
        "print(\"Quantidade de PIS/COFINS Positivo: \",int(quantidade))\n",
        "#lab_quantidade = pd.DataFrame({'LISTA DE CONCESSÃO DE CRÉDITO TRIBUTÁRIO (PIS/COFINS)': varPISCONFIS,\n",
        "#                   'Quantidade': quantidad})\n",
        "#lab_quantidade"
      ],
      "metadata": {
        "id": "VZgerFNn3R0F",
        "colab": {
          "base_uri": "https://localhost:8080/"
        },
        "outputId": "8ee61eb2-1362-4b9c-b39b-5ad87dca3683"
      },
      "execution_count": 34,
      "outputs": [
        {
          "output_type": "stream",
          "name": "stdout",
          "text": [
            "Quantidade de PIS/COFINS Positivo:  18570\n"
          ]
        }
      ]
    },
    {
      "cell_type": "markdown",
      "source": [
        "Pegando apenas valores Negativos:"
      ],
      "metadata": {
        "id": "P99IrHtEQJks"
      }
    },
    {
      "cell_type": "code",
      "source": [
        "varPISCONFISNEG = datasetMed[datasetMed['LISTA DE CONCESSÃO DE CRÉDITO TRIBUTÁRIO (PIS/COFINS)'] == 'Negativa']\n",
        "varPISCONFISNEG\n",
        "quantidadeNEG = len(varPISCONFISNEG)\n",
        "print(\"Quantidade de PIS/COFINS Negativo: \", int(quantidadeNEG))"
      ],
      "metadata": {
        "id": "hDHaCtr56ywE",
        "colab": {
          "base_uri": "https://localhost:8080/"
        },
        "outputId": "710ed7fc-8d61-4453-966b-98f7d328455b"
      },
      "execution_count": 35,
      "outputs": [
        {
          "output_type": "stream",
          "name": "stdout",
          "text": [
            "Quantidade de PIS/COFINS Negativo:  8529\n"
          ]
        }
      ]
    },
    {
      "cell_type": "markdown",
      "source": [
        "Em segunda análise, utilizamos um histograma."
      ],
      "metadata": {
        "id": "7Hp8s6IqQu8K"
      }
    },
    {
      "cell_type": "code",
      "source": [
        "dff = pd.DataFrame({'PISCONFIS':['Todos', 'Negativo', 'Positivo'], 'val':[TodosDados, quantidadeNEG, quantidade]})\n",
        "\n",
        "graph = dff.plot.bar(x='PISCONFIS', y='val', rot=0, color=['green', 'red', 'blue'] )\n",
        "graph\n",
        "\n",
        "\n",
        "#estadosMedia = pd.DataFrame({'LISTA DE CONCESSÃO DE CRÉDITO TRIBUTÁRIO (PIS/COFINS)': [\"Positiva\", \"NEgativa\"],'Média':[ES, MGSP, RJ]}, index=[\"ES\", \"MGSP\", \"RJ\"])\n",
        "#graph = plt.bar(estadosMedia['Estado'],estadosMedia['Média'], color=['pink','green','red'])\n",
        "#plt.yscale('log')\n",
        "#plt.show()"
      ],
      "metadata": {
        "id": "t4a_XII_Qvzc",
        "colab": {
          "base_uri": "https://localhost:8080/",
          "height": 296
        },
        "outputId": "e2592794-ba87-4081-f7eb-bd712f5f0c4c"
      },
      "execution_count": 36,
      "outputs": [
        {
          "output_type": "execute_result",
          "data": {
            "text/plain": [
              "<matplotlib.axes._subplots.AxesSubplot at 0x7fa52acee090>"
            ]
          },
          "metadata": {},
          "execution_count": 36
        },
        {
          "output_type": "display_data",
          "data": {
            "text/plain": [
              "<Figure size 432x288 with 1 Axes>"
            ],
            "image/png": "[encoded data removed]"
          },
          "metadata": {
            "needs_background": "light"
          }
        }
      ]
    },
    {
      "cell_type": "markdown",
      "source": [
        "###**9)** Qual laboratório possui a lista de concessão de crédito tributário com mais medicamentos em positivo?"
      ],
      "metadata": {
        "id": "hhYBoCNb8QZ4"
      }
    },
    {
      "cell_type": "markdown",
      "source": [
        "Analisando qual laboratorio possui a concessão de crédito tributário com mais medicamentos positivos, em primeiro lugar, recolhemos os dados de todos os laboratorios com a concessão positiva."
      ],
      "metadata": {
        "id": "gkdVmpEgSgT8"
      }
    },
    {
      "cell_type": "code",
      "source": [
        "varPISCONFIS = datasetMed[datasetMed['LISTA DE CONCESSÃO DE CRÉDITO TRIBUTÁRIO (PIS/COFINS)'] == 'Positiva']\n",
        "quantidade = varPISCONFIS\n",
        "quantidade = quantidade.groupby('LABORATÓRIO')['LISTA DE CONCESSÃO DE CRÉDITO TRIBUTÁRIO (PIS/COFINS)'].count().tolist()\n",
        "nomesLabs = sorted(varPISCONFIS['LABORATÓRIO'].unique())"
      ],
      "metadata": {
        "id": "hGNWK7Bx95YG"
      },
      "execution_count": 37,
      "outputs": []
    },
    {
      "cell_type": "markdown",
      "source": [
        "Com isso, foi criada uma tabela com o nome do laboratório e a quantidade de concessão que ele tem. "
      ],
      "metadata": {
        "id": "Hff80XbwTyQ7"
      }
    },
    {
      "cell_type": "code",
      "source": [
        "lab_quantidade = pd.DataFrame({'Laboratório': nomesLabs,\n",
        "                   'Quantidade': quantidade})\n",
        "lab_quantidade\n",
        "df2 = lab_quantidade.sort_values('Quantidade', ascending=False)\n",
        "df2"
      ],
      "metadata": {
        "id": "k5LG7H7_9tav",
        "colab": {
          "base_uri": "https://localhost:8080/",
          "height": 424
        },
        "outputId": "4fc56392-b683-4353-9255-d9da81275e9d"
      },
      "execution_count": 38,
      "outputs": [
        {
          "output_type": "execute_result",
          "data": {
            "text/plain": [
              "                                           Laboratório  Quantidade\n",
              "65                                             EMS S/A        1059\n",
              "4                  ACHÉ LABORATÓRIOS FARMACÊUTICOS S.A         850\n",
              "87                            GERMED FARMACEUTICA LTDA         718\n",
              "68                         EUROFARMA LABORATÓRIOS S.A.         708\n",
              "164                         PRATI DONADUZZI & CIA LTDA         688\n",
              "..                                                 ...         ...\n",
              "178         SILVESTRE LABS QUÍMICA E FARMACÊUTICA LTDA           1\n",
              "138           MAWDSLEYS PHARMACEUTICALS DO BRASIL LTDA           1\n",
              "116              LABORATÓRIO FARMACÊUTICO VITAMED LTDA           1\n",
              "61                             DLA PHARMACEUTICAL LTDA           1\n",
              "50   CIPLA BRASIL IMPORTADORA E DISTRIBUIDORA DE ME...           1\n",
              "\n",
              "[203 rows x 2 columns]"
            ],
            "text/html": [
              "\n",
              "  <div id=\"df-246c8a18-d52a-4cc0-8cfa-79dfde0c95b4\">\n",
              "    <div class=\"colab-df-container\">\n",
              "      <div>\n",
              "<style scoped>\n",
              "    .dataframe tbody tr th:only-of-type {\n",
              "        vertical-align: middle;\n",
              "    }\n",
              "\n",
              "    .dataframe tbody tr th {\n",
              "        vertical-align: top;\n",
              "    }\n",
              "\n",
              "    .dataframe thead th {\n",
              "        text-align: right;\n",
              "    }\n",
              "</style>\n",
              "<table border=\"1\" class=\"dataframe\">\n",
              "  <thead>\n",
              "    <tr style=\"text-align: right;\">\n",
              "      <th></th>\n",
              "      <th>Laboratório</th>\n",
              "      <th>Quantidade</th>\n",
              "    </tr>\n",
              "  </thead>\n",
              "  <tbody>\n",
              "    <tr>\n",
              "      <th>65</th>\n",
              "      <td>EMS S/A</td>\n",
              "      <td>1059</td>\n",
              "    </tr>\n",
              "    <tr>\n",
              "      <th>4</th>\n",
              "      <td>ACHÉ LABORATÓRIOS FARMACÊUTICOS S.A</td>\n",
              "      <td>850</td>\n",
              "    </tr>\n",
              "    <tr>\n",
              "      <th>87</th>\n",
              "      <td>GERMED FARMACEUTICA LTDA</td>\n",
              "      <td>718</td>\n",
              "    </tr>\n",
              "    <tr>\n",
              "      <th>68</th>\n",
              "      <td>EUROFARMA LABORATÓRIOS S.A.</td>\n",
              "      <td>708</td>\n",
              "    </tr>\n",
              "    <tr>\n",
              "      <th>164</th>\n",
              "      <td>PRATI DONADUZZI &amp; CIA LTDA</td>\n",
              "      <td>688</td>\n",
              "    </tr>\n",
              "    <tr>\n",
              "      <th>...</th>\n",
              "      <td>...</td>\n",
              "      <td>...</td>\n",
              "    </tr>\n",
              "    <tr>\n",
              "      <th>178</th>\n",
              "      <td>SILVESTRE LABS QUÍMICA E FARMACÊUTICA LTDA</td>\n",
              "      <td>1</td>\n",
              "    </tr>\n",
              "    <tr>\n",
              "      <th>138</th>\n",
              "      <td>MAWDSLEYS PHARMACEUTICALS DO BRASIL LTDA</td>\n",
              "      <td>1</td>\n",
              "    </tr>\n",
              "    <tr>\n",
              "      <th>116</th>\n",
              "      <td>LABORATÓRIO FARMACÊUTICO VITAMED LTDA</td>\n",
              "      <td>1</td>\n",
              "    </tr>\n",
              "    <tr>\n",
              "      <th>61</th>\n",
              "      <td>DLA PHARMACEUTICAL LTDA</td>\n",
              "      <td>1</td>\n",
              "    </tr>\n",
              "    <tr>\n",
              "      <th>50</th>\n",
              "      <td>CIPLA BRASIL IMPORTADORA E DISTRIBUIDORA DE ME...</td>\n",
              "      <td>1</td>\n",
              "    </tr>\n",
              "  </tbody>\n",
              "</table>\n",
              "<p>203 rows × 2 columns</p>\n",
              "</div>\n",
              "      <button class=\"colab-df-convert\" onclick=\"convertToInteractive('df-246c8a18-d52a-4cc0-8cfa-79dfde0c95b4')\"\n",
              "              title=\"Convert this dataframe to an interactive table.\"\n",
              "              style=\"display:none;\">\n",
              "        \n",
              "  <svg xmlns=\"http://www.w3.org/2000/svg\" height=\"24px\"viewBox=\"0 0 24 24\"\n",
              "       width=\"24px\">\n",
              "    <path d=\"M0 0h24v24H0V0z\" fill=\"none\"/>\n",
              "    <path d=\"M18.56 5.44l.94 2.06.94-2.06 2.06-.94-2.06-.94-.94-2.06-.94 2.06-2.06.94zm-11 1L8.5 8.5l.94-2.06 2.06-.94-2.06-.94L8.5 2.5l-.94 2.06-2.06.94zm10 10l.94 2.06.94-2.06 2.06-.94-2.06-.94-.94-2.06-.94 2.06-2.06.94z\"/><path d=\"M17.41 7.96l-1.37-1.37c-.4-.4-.92-.59-1.43-.59-.52 0-1.04.2-1.43.59L10.3 9.45l-7.72 7.72c-.78.78-.78 2.05 0 2.83L4 21.41c.39.39.9.59 1.41.59.51 0 1.02-.2 1.41-.59l7.78-7.78 2.81-2.81c.8-.78.8-2.07 0-2.86zM5.41 20L4 18.59l7.72-7.72 1.47 1.35L5.41 20z\"/>\n",
              "  </svg>\n",
              "      </button>\n",
              "      \n",
              "  <style>\n",
              "    .colab-df-container {\n",
              "      display:flex;\n",
              "      flex-wrap:wrap;\n",
              "      gap: 12px;\n",
              "    }\n",
              "\n",
              "    .colab-df-convert {\n",
              "      background-color: #E8F0FE;\n",
              "      border: none;\n",
              "      border-radius: 50%;\n",
              "      cursor: pointer;\n",
              "      display: none;\n",
              "      fill: #1967D2;\n",
              "      height: 32px;\n",
              "      padding: 0 0 0 0;\n",
              "      width: 32px;\n",
              "    }\n",
              "\n",
              "    .colab-df-convert:hover {\n",
              "      background-color: #E2EBFA;\n",
              "      box-shadow: 0px 1px 2px rgba(60, 64, 67, 0.3), 0px 1px 3px 1px rgba(60, 64, 67, 0.15);\n",
              "      fill: #174EA6;\n",
              "    }\n",
              "\n",
              "    [theme=dark] .colab-df-convert {\n",
              "      background-color: #3B4455;\n",
              "      fill: #D2E3FC;\n",
              "    }\n",
              "\n",
              "    [theme=dark] .colab-df-convert:hover {\n",
              "      background-color: #434B5C;\n",
              "      box-shadow: 0px 1px 3px 1px rgba(0, 0, 0, 0.15);\n",
              "      filter: drop-shadow(0px 1px 2px rgba(0, 0, 0, 0.3));\n",
              "      fill: #FFFFFF;\n",
              "    }\n",
              "  </style>\n",
              "\n",
              "      <script>\n",
              "        const buttonEl =\n",
              "          document.querySelector('#df-246c8a18-d52a-4cc0-8cfa-79dfde0c95b4 button.colab-df-convert');\n",
              "        buttonEl.style.display =\n",
              "          google.colab.kernel.accessAllowed ? 'block' : 'none';\n",
              "\n",
              "        async function convertToInteractive(key) {\n",
              "          const element = document.querySelector('#df-246c8a18-d52a-4cc0-8cfa-79dfde0c95b4');\n",
              "          const dataTable =\n",
              "            await google.colab.kernel.invokeFunction('convertToInteractive',\n",
              "                                                     [key], {});\n",
              "          if (!dataTable) return;\n",
              "\n",
              "          const docLinkHtml = 'Like what you see? Visit the ' +\n",
              "            '<a target=\"_blank\" href=https://colab.research.google.com/notebooks/data_table.ipynb>data table notebook</a>'\n",
              "            + ' to learn more about interactive tables.';\n",
              "          element.innerHTML = '';\n",
              "          dataTable['output_type'] = 'display_data';\n",
              "          await google.colab.output.renderOutput(dataTable, element);\n",
              "          const docLink = document.createElement('div');\n",
              "          docLink.innerHTML = docLinkHtml;\n",
              "          element.appendChild(docLink);\n",
              "        }\n",
              "      </script>\n",
              "    </div>\n",
              "  </div>\n",
              "  "
            ]
          },
          "metadata": {},
          "execution_count": 38
        }
      ]
    },
    {
      "cell_type": "markdown",
      "source": [
        "Com isso, o laboratório que possui maior número de concessão:  "
      ],
      "metadata": {
        "id": "eFJNpj3BUA6M"
      }
    },
    {
      "cell_type": "code",
      "source": [
        "df2.loc[65]"
      ],
      "metadata": {
        "id": "M-TExOx2VjCp",
        "colab": {
          "base_uri": "https://localhost:8080/"
        },
        "outputId": "440d346a-1e44-4a51-c12d-656cb4c867a9"
      },
      "execution_count": 39,
      "outputs": [
        {
          "output_type": "execute_result",
          "data": {
            "text/plain": [
              "Laboratório    EMS S/A\n",
              "Quantidade        1059\n",
              "Name: 65, dtype: object"
            ]
          },
          "metadata": {},
          "execution_count": 39
        }
      ]
    },
    {
      "cell_type": "markdown",
      "source": [
        "###**10)** Qual laboratório possui a lista de concessão de crédito tributário com mais medicamentos em negativo?"
      ],
      "metadata": {
        "id": "zKOxg5TpB4xO"
      }
    },
    {
      "cell_type": "markdown",
      "source": [
        "Analisando qual laboratorio possui a concessão de crédito tributário com mais medicamentos positivos, em primeiro lugar, recolhemos os dados de todos os laboratorios com a concessão negativa."
      ],
      "metadata": {
        "id": "MAMsNAnCV_8-"
      }
    },
    {
      "cell_type": "code",
      "source": [
        "varPISCONFIS = datasetMed[datasetMed['LISTA DE CONCESSÃO DE CRÉDITO TRIBUTÁRIO (PIS/COFINS)'] == 'Negativa']\n",
        "quantidadeNEG = varPISCONFIS\n",
        "quantidadeNEG = quantidadeNEG.groupby('LABORATÓRIO')['LISTA DE CONCESSÃO DE CRÉDITO TRIBUTÁRIO (PIS/COFINS)'].count().tolist()\n",
        "nomesLabs = sorted(varPISCONFIS['LABORATÓRIO'].unique())"
      ],
      "metadata": {
        "id": "T445ubKNB4Lb"
      },
      "execution_count": 40,
      "outputs": []
    },
    {
      "cell_type": "markdown",
      "source": [
        "Com isso, foi criada uma tabela com o nome dos laboratórios e a quantidade de concessão que ele tem."
      ],
      "metadata": {
        "id": "03u_5v75WUVJ"
      }
    },
    {
      "cell_type": "code",
      "source": [
        "lab_quantidade = pd.DataFrame({'Laboratório': nomesLabs,\n",
        "                   'Quantidade': quantidadeNEG})\n",
        "lab_quantidade\n",
        "df3 = lab_quantidade.sort_values('Quantidade', ascending=False)\n",
        "df3"
      ],
      "metadata": {
        "id": "2PC1uZ38Cd_p",
        "colab": {
          "base_uri": "https://localhost:8080/",
          "height": 424
        },
        "outputId": "e5ffca4e-9b5a-4749-8879-e92dbf2b1646"
      },
      "execution_count": 41,
      "outputs": [
        {
          "output_type": "execute_result",
          "data": {
            "text/plain": [
              "                                           Laboratório  Quantidade\n",
              "67                                             EMS S/A         515\n",
              "4                  ACHÉ LABORATÓRIOS FARMACÊUTICOS S.A         333\n",
              "56   COSMED INDUSTRIA DE COSMETICOS E MEDICAMENTOS ...         316\n",
              "197                   SANOFI MEDLEY FARMACÊUTICA LTDA.         313\n",
              "146         LEGRAND PHARMA INDÚSTRIA FARMACÊUTICA LTDA         275\n",
              "..                                                 ...         ...\n",
              "162  MOKSHA8 BRASIL INDUSTRIA E COMERCIO DE MEDICAM...           1\n",
              "93            GLOBAL REGULATORY PARTNERS BRASIL EIRELI           1\n",
              "188        PINUS INDUSTRIA QUIMICA E FARMACEUTICA LTDA           1\n",
              "155  MEDA PHARMA IMPORTAÇÃO E EXPORTAÇÃO DE PRODUTO...           1\n",
              "161                               MINÂNCORA & CIA LTDA           1\n",
              "\n",
              "[232 rows x 2 columns]"
            ],
            "text/html": [
              "\n",
              "  <div id=\"df-69a42869-6ca8-4935-883f-bb18cb51ce76\">\n",
              "    <div class=\"colab-df-container\">\n",
              "      <div>\n",
              "<style scoped>\n",
              "    .dataframe tbody tr th:only-of-type {\n",
              "        vertical-align: middle;\n",
              "    }\n",
              "\n",
              "    .dataframe tbody tr th {\n",
              "        vertical-align: top;\n",
              "    }\n",
              "\n",
              "    .dataframe thead th {\n",
              "        text-align: right;\n",
              "    }\n",
              "</style>\n",
              "<table border=\"1\" class=\"dataframe\">\n",
              "  <thead>\n",
              "    <tr style=\"text-align: right;\">\n",
              "      <th></th>\n",
              "      <th>Laboratório</th>\n",
              "      <th>Quantidade</th>\n",
              "    </tr>\n",
              "  </thead>\n",
              "  <tbody>\n",
              "    <tr>\n",
              "      <th>67</th>\n",
              "      <td>EMS S/A</td>\n",
              "      <td>515</td>\n",
              "    </tr>\n",
              "    <tr>\n",
              "      <th>4</th>\n",
              "      <td>ACHÉ LABORATÓRIOS FARMACÊUTICOS S.A</td>\n",
              "      <td>333</td>\n",
              "    </tr>\n",
              "    <tr>\n",
              "      <th>56</th>\n",
              "      <td>COSMED INDUSTRIA DE COSMETICOS E MEDICAMENTOS ...</td>\n",
              "      <td>316</td>\n",
              "    </tr>\n",
              "    <tr>\n",
              "      <th>197</th>\n",
              "      <td>SANOFI MEDLEY FARMACÊUTICA LTDA.</td>\n",
              "      <td>313</td>\n",
              "    </tr>\n",
              "    <tr>\n",
              "      <th>146</th>\n",
              "      <td>LEGRAND PHARMA INDÚSTRIA FARMACÊUTICA LTDA</td>\n",
              "      <td>275</td>\n",
              "    </tr>\n",
              "    <tr>\n",
              "      <th>...</th>\n",
              "      <td>...</td>\n",
              "      <td>...</td>\n",
              "    </tr>\n",
              "    <tr>\n",
              "      <th>162</th>\n",
              "      <td>MOKSHA8 BRASIL INDUSTRIA E COMERCIO DE MEDICAM...</td>\n",
              "      <td>1</td>\n",
              "    </tr>\n",
              "    <tr>\n",
              "      <th>93</th>\n",
              "      <td>GLOBAL REGULATORY PARTNERS BRASIL EIRELI</td>\n",
              "      <td>1</td>\n",
              "    </tr>\n",
              "    <tr>\n",
              "      <th>188</th>\n",
              "      <td>PINUS INDUSTRIA QUIMICA E FARMACEUTICA LTDA</td>\n",
              "      <td>1</td>\n",
              "    </tr>\n",
              "    <tr>\n",
              "      <th>155</th>\n",
              "      <td>MEDA PHARMA IMPORTAÇÃO E EXPORTAÇÃO DE PRODUTO...</td>\n",
              "      <td>1</td>\n",
              "    </tr>\n",
              "    <tr>\n",
              "      <th>161</th>\n",
              "      <td>MINÂNCORA &amp; CIA LTDA</td>\n",
              "      <td>1</td>\n",
              "    </tr>\n",
              "  </tbody>\n",
              "</table>\n",
              "<p>232 rows × 2 columns</p>\n",
              "</div>\n",
              "      <button class=\"colab-df-convert\" onclick=\"convertToInteractive('df-69a42869-6ca8-4935-883f-bb18cb51ce76')\"\n",
              "              title=\"Convert this dataframe to an interactive table.\"\n",
              "              style=\"display:none;\">\n",
              "        \n",
              "  <svg xmlns=\"http://www.w3.org/2000/svg\" height=\"24px\"viewBox=\"0 0 24 24\"\n",
              "       width=\"24px\">\n",
              "    <path d=\"M0 0h24v24H0V0z\" fill=\"none\"/>\n",
              "    <path d=\"M18.56 5.44l.94 2.06.94-2.06 2.06-.94-2.06-.94-.94-2.06-.94 2.06-2.06.94zm-11 1L8.5 8.5l.94-2.06 2.06-.94-2.06-.94L8.5 2.5l-.94 2.06-2.06.94zm10 10l.94 2.06.94-2.06 2.06-.94-2.06-.94-.94-2.06-.94 2.06-2.06.94z\"/><path d=\"M17.41 7.96l-1.37-1.37c-.4-.4-.92-.59-1.43-.59-.52 0-1.04.2-1.43.59L10.3 9.45l-7.72 7.72c-.78.78-.78 2.05 0 2.83L4 21.41c.39.39.9.59 1.41.59.51 0 1.02-.2 1.41-.59l7.78-7.78 2.81-2.81c.8-.78.8-2.07 0-2.86zM5.41 20L4 18.59l7.72-7.72 1.47 1.35L5.41 20z\"/>\n",
              "  </svg>\n",
              "      </button>\n",
              "      \n",
              "  <style>\n",
              "    .colab-df-container {\n",
              "      display:flex;\n",
              "      flex-wrap:wrap;\n",
              "      gap: 12px;\n",
              "    }\n",
              "\n",
              "    .colab-df-convert {\n",
              "      background-color: #E8F0FE;\n",
              "      border: none;\n",
              "      border-radius: 50%;\n",
              "      cursor: pointer;\n",
              "      display: none;\n",
              "      fill: #1967D2;\n",
              "      height: 32px;\n",
              "      padding: 0 0 0 0;\n",
              "      width: 32px;\n",
              "    }\n",
              "\n",
              "    .colab-df-convert:hover {\n",
              "      background-color: #E2EBFA;\n",
              "      box-shadow: 0px 1px 2px rgba(60, 64, 67, 0.3), 0px 1px 3px 1px rgba(60, 64, 67, 0.15);\n",
              "      fill: #174EA6;\n",
              "    }\n",
              "\n",
              "    [theme=dark] .colab-df-convert {\n",
              "      background-color: #3B4455;\n",
              "      fill: #D2E3FC;\n",
              "    }\n",
              "\n",
              "    [theme=dark] .colab-df-convert:hover {\n",
              "      background-color: #434B5C;\n",
              "      box-shadow: 0px 1px 3px 1px rgba(0, 0, 0, 0.15);\n",
              "      filter: drop-shadow(0px 1px 2px rgba(0, 0, 0, 0.3));\n",
              "      fill: #FFFFFF;\n",
              "    }\n",
              "  </style>\n",
              "\n",
              "      <script>\n",
              "        const buttonEl =\n",
              "          document.querySelector('#df-69a42869-6ca8-4935-883f-bb18cb51ce76 button.colab-df-convert');\n",
              "        buttonEl.style.display =\n",
              "          google.colab.kernel.accessAllowed ? 'block' : 'none';\n",
              "\n",
              "        async function convertToInteractive(key) {\n",
              "          const element = document.querySelector('#df-69a42869-6ca8-4935-883f-bb18cb51ce76');\n",
              "          const dataTable =\n",
              "            await google.colab.kernel.invokeFunction('convertToInteractive',\n",
              "                                                     [key], {});\n",
              "          if (!dataTable) return;\n",
              "\n",
              "          const docLinkHtml = 'Like what you see? Visit the ' +\n",
              "            '<a target=\"_blank\" href=https://colab.research.google.com/notebooks/data_table.ipynb>data table notebook</a>'\n",
              "            + ' to learn more about interactive tables.';\n",
              "          element.innerHTML = '';\n",
              "          dataTable['output_type'] = 'display_data';\n",
              "          await google.colab.output.renderOutput(dataTable, element);\n",
              "          const docLink = document.createElement('div');\n",
              "          docLink.innerHTML = docLinkHtml;\n",
              "          element.appendChild(docLink);\n",
              "        }\n",
              "      </script>\n",
              "    </div>\n",
              "  </div>\n",
              "  "
            ]
          },
          "metadata": {},
          "execution_count": 41
        }
      ]
    },
    {
      "cell_type": "markdown",
      "source": [
        "O Laboratório com maior numero de concessão Negativa é:"
      ],
      "metadata": {
        "id": "GyLPbp0SWi7Z"
      }
    },
    {
      "cell_type": "code",
      "source": [
        "df3.loc[67]"
      ],
      "metadata": {
        "id": "BA9T2rN9WlFb",
        "colab": {
          "base_uri": "https://localhost:8080/"
        },
        "outputId": "b5bb93c2-c860-44ac-8f5d-ed64fdbe6aa1"
      },
      "execution_count": 42,
      "outputs": [
        {
          "output_type": "execute_result",
          "data": {
            "text/plain": [
              "Laboratório    EMS S/A\n",
              "Quantidade         515\n",
              "Name: 67, dtype: object"
            ]
          },
          "metadata": {},
          "execution_count": 42
        }
      ]
    },
    {
      "cell_type": "markdown",
      "source": [
        "###**12**- Qual a porcentagem de remédios que possuem e não possuem restrição hospitalar?"
      ],
      "metadata": {
        "id": "nefod4y_6Mev"
      }
    },
    {
      "cell_type": "code",
      "source": [
        "restricaoNegada = datasetMed[datasetMed['RESTRIÇÃO HOSPITALAR'] == 'Não']\n",
        "restricaoAceita = datasetMed[datasetMed['RESTRIÇÃO HOSPITALAR'] == 'Sim']\n",
        "Total = datasetMed['RESTRIÇÃO HOSPITALAR'].count()\n",
        "\n",
        "\n",
        "restricaoNegada = restricaoNegada['RESTRIÇÃO HOSPITALAR'].count()\n",
        "restricaoAceita = restricaoAceita['RESTRIÇÃO HOSPITALAR'].count()\n",
        "restricaoAceita\n",
        "\n",
        "\n",
        "porcNegada = (restricaoNegada/Total)*100\n",
        "porcAceita = (restricaoAceita/Total)*100\n",
        "\n",
        "print('Porcentagem Negada = {:.2f}% '.format(porcNegada))\n",
        "print('Porcentagem Aceita = {:.2f}%'.format(porcAceita))\n"
      ],
      "metadata": {
        "id": "gD23Wo7s6NxA",
        "colab": {
          "base_uri": "https://localhost:8080/"
        },
        "outputId": "5031432b-0371-4201-d4ed-7f1e5129ce87"
      },
      "execution_count": 43,
      "outputs": [
        {
          "output_type": "stream",
          "name": "stdout",
          "text": [
            "Porcentagem Negada = 83.26% \n",
            "Porcentagem Aceita = 16.74%\n"
          ]
        }
      ]
    },
    {
      "cell_type": "markdown",
      "source": [
        "###**13**- Em 2020, quais os 3 medicamentos mais comercializados?"
      ],
      "metadata": {
        "id": "55fRUayev6gb"
      }
    },
    {
      "cell_type": "code",
      "source": [
        "varPISCONFIS = datasetMed[datasetMed['COMERCIALIZAÇÃO 2020'] == 'Sim']\n",
        "quantidadeNEG = varPISCONFIS\n",
        "quantidadeNEG = quantidadeNEG.groupby('PRODUTO')['COMERCIALIZAÇÃO 2020'].count()\n"
      ],
      "metadata": {
        "id": "dAbtXGKsv7jG"
      },
      "execution_count": 44,
      "outputs": []
    },
    {
      "cell_type": "code",
      "source": [
        "lab_quantidade = pd.DataFrame({'Quantidade': quantidadeNEG})\n",
        "lab_quantidade\n",
        "df3 = lab_quantidade.sort_values('Quantidade', ascending=False)\n",
        "df3"
      ],
      "metadata": {
        "colab": {
          "base_uri": "https://localhost:8080/",
          "height": 455
        },
        "id": "B24mglKZrNbo",
        "outputId": "0a42f684-3bdd-454c-ee9e-fc323cd87ee8"
      },
      "execution_count": 45,
      "outputs": [
        {
          "output_type": "execute_result",
          "data": {
            "text/plain": [
              "                         Quantidade\n",
              "PRODUTO                            \n",
              "CITRATO DE SILDENAFILA           54\n",
              "PARACETAMOL                      53\n",
              "AMOXICILINA                      53\n",
              "OXALATO DE ESCITALOPRAM          53\n",
              "RISPERIDONA                      50\n",
              "...                             ...\n",
              "NITRATO DE OXICONAZOL             1\n",
              "DIBEDERM                          1\n",
              "NITRAPAN                          1\n",
              "NITES                             1\n",
              "A SAÚDE DA MULHER                 1\n",
              "\n",
              "[4503 rows x 1 columns]"
            ],
            "text/html": [
              "\n",
              "  <div id=\"df-aa29ee48-c1a0-45b6-b7ef-3455b82edc86\">\n",
              "    <div class=\"colab-df-container\">\n",
              "      <div>\n",
              "<style scoped>\n",
              "    .dataframe tbody tr th:only-of-type {\n",
              "        vertical-align: middle;\n",
              "    }\n",
              "\n",
              "    .dataframe tbody tr th {\n",
              "        vertical-align: top;\n",
              "    }\n",
              "\n",
              "    .dataframe thead th {\n",
              "        text-align: right;\n",
              "    }\n",
              "</style>\n",
              "<table border=\"1\" class=\"dataframe\">\n",
              "  <thead>\n",
              "    <tr style=\"text-align: right;\">\n",
              "      <th></th>\n",
              "      <th>Quantidade</th>\n",
              "    </tr>\n",
              "    <tr>\n",
              "      <th>PRODUTO</th>\n",
              "      <th></th>\n",
              "    </tr>\n",
              "  </thead>\n",
              "  <tbody>\n",
              "    <tr>\n",
              "      <th>CITRATO DE SILDENAFILA</th>\n",
              "      <td>54</td>\n",
              "    </tr>\n",
              "    <tr>\n",
              "      <th>PARACETAMOL</th>\n",
              "      <td>53</td>\n",
              "    </tr>\n",
              "    <tr>\n",
              "      <th>AMOXICILINA</th>\n",
              "      <td>53</td>\n",
              "    </tr>\n",
              "    <tr>\n",
              "      <th>OXALATO DE ESCITALOPRAM</th>\n",
              "      <td>53</td>\n",
              "    </tr>\n",
              "    <tr>\n",
              "      <th>RISPERIDONA</th>\n",
              "      <td>50</td>\n",
              "    </tr>\n",
              "    <tr>\n",
              "      <th>...</th>\n",
              "      <td>...</td>\n",
              "    </tr>\n",
              "    <tr>\n",
              "      <th>NITRATO DE OXICONAZOL</th>\n",
              "      <td>1</td>\n",
              "    </tr>\n",
              "    <tr>\n",
              "      <th>DIBEDERM</th>\n",
              "      <td>1</td>\n",
              "    </tr>\n",
              "    <tr>\n",
              "      <th>NITRAPAN</th>\n",
              "      <td>1</td>\n",
              "    </tr>\n",
              "    <tr>\n",
              "      <th>NITES</th>\n",
              "      <td>1</td>\n",
              "    </tr>\n",
              "    <tr>\n",
              "      <th>A SAÚDE DA MULHER</th>\n",
              "      <td>1</td>\n",
              "    </tr>\n",
              "  </tbody>\n",
              "</table>\n",
              "<p>4503 rows × 1 columns</p>\n",
              "</div>\n",
              "      <button class=\"colab-df-convert\" onclick=\"convertToInteractive('df-aa29ee48-c1a0-45b6-b7ef-3455b82edc86')\"\n",
              "              title=\"Convert this dataframe to an interactive table.\"\n",
              "              style=\"display:none;\">\n",
              "        \n",
              "  <svg xmlns=\"http://www.w3.org/2000/svg\" height=\"24px\"viewBox=\"0 0 24 24\"\n",
              "       width=\"24px\">\n",
              "    <path d=\"M0 0h24v24H0V0z\" fill=\"none\"/>\n",
              "    <path d=\"M18.56 5.44l.94 2.06.94-2.06 2.06-.94-2.06-.94-.94-2.06-.94 2.06-2.06.94zm-11 1L8.5 8.5l.94-2.06 2.06-.94-2.06-.94L8.5 2.5l-.94 2.06-2.06.94zm10 10l.94 2.06.94-2.06 2.06-.94-2.06-.94-.94-2.06-.94 2.06-2.06.94z\"/><path d=\"M17.41 7.96l-1.37-1.37c-.4-.4-.92-.59-1.43-.59-.52 0-1.04.2-1.43.59L10.3 9.45l-7.72 7.72c-.78.78-.78 2.05 0 2.83L4 21.41c.39.39.9.59 1.41.59.51 0 1.02-.2 1.41-.59l7.78-7.78 2.81-2.81c.8-.78.8-2.07 0-2.86zM5.41 20L4 18.59l7.72-7.72 1.47 1.35L5.41 20z\"/>\n",
              "  </svg>\n",
              "      </button>\n",
              "      \n",
              "  <style>\n",
              "    .colab-df-container {\n",
              "      display:flex;\n",
              "      flex-wrap:wrap;\n",
              "      gap: 12px;\n",
              "    }\n",
              "\n",
              "    .colab-df-convert {\n",
              "      background-color: #E8F0FE;\n",
              "      border: none;\n",
              "      border-radius: 50%;\n",
              "      cursor: pointer;\n",
              "      display: none;\n",
              "      fill: #1967D2;\n",
              "      height: 32px;\n",
              "      padding: 0 0 0 0;\n",
              "      width: 32px;\n",
              "    }\n",
              "\n",
              "    .colab-df-convert:hover {\n",
              "      background-color: #E2EBFA;\n",
              "      box-shadow: 0px 1px 2px rgba(60, 64, 67, 0.3), 0px 1px 3px 1px rgba(60, 64, 67, 0.15);\n",
              "      fill: #174EA6;\n",
              "    }\n",
              "\n",
              "    [theme=dark] .colab-df-convert {\n",
              "      background-color: #3B4455;\n",
              "      fill: #D2E3FC;\n",
              "    }\n",
              "\n",
              "    [theme=dark] .colab-df-convert:hover {\n",
              "      background-color: #434B5C;\n",
              "      box-shadow: 0px 1px 3px 1px rgba(0, 0, 0, 0.15);\n",
              "      filter: drop-shadow(0px 1px 2px rgba(0, 0, 0, 0.3));\n",
              "      fill: #FFFFFF;\n",
              "    }\n",
              "  </style>\n",
              "\n",
              "      <script>\n",
              "        const buttonEl =\n",
              "          document.querySelector('#df-aa29ee48-c1a0-45b6-b7ef-3455b82edc86 button.colab-df-convert');\n",
              "        buttonEl.style.display =\n",
              "          google.colab.kernel.accessAllowed ? 'block' : 'none';\n",
              "\n",
              "        async function convertToInteractive(key) {\n",
              "          const element = document.querySelector('#df-aa29ee48-c1a0-45b6-b7ef-3455b82edc86');\n",
              "          const dataTable =\n",
              "            await google.colab.kernel.invokeFunction('convertToInteractive',\n",
              "                                                     [key], {});\n",
              "          if (!dataTable) return;\n",
              "\n",
              "          const docLinkHtml = 'Like what you see? Visit the ' +\n",
              "            '<a target=\"_blank\" href=https://colab.research.google.com/notebooks/data_table.ipynb>data table notebook</a>'\n",
              "            + ' to learn more about interactive tables.';\n",
              "          element.innerHTML = '';\n",
              "          dataTable['output_type'] = 'display_data';\n",
              "          await google.colab.output.renderOutput(dataTable, element);\n",
              "          const docLink = document.createElement('div');\n",
              "          docLink.innerHTML = docLinkHtml;\n",
              "          element.appendChild(docLink);\n",
              "        }\n",
              "      </script>\n",
              "    </div>\n",
              "  </div>\n",
              "  "
            ]
          },
          "metadata": {},
          "execution_count": 45
        }
      ]
    },
    {
      "cell_type": "markdown",
      "source": [
        "Os três medicamentos mais comercializados foram:\n",
        "\n",
        "\n",
        "1.   CITRATO DE SILDENAFILA\n",
        "2.   PARACETAMOL\n",
        "3.   AMOXICILINA\n",
        "\n"
      ],
      "metadata": {
        "id": "H9yxE-_1t9yX"
      }
    },
    {
      "cell_type": "markdown",
      "source": [
        "###**14** - Qual a porcentagem de medicamentos foi comercializada em 2020?"
      ],
      "metadata": {
        "id": "N6gJLfsEz2kP"
      }
    },
    {
      "cell_type": "code",
      "source": [
        "naoComercializada = datasetMed[datasetMed['COMERCIALIZAÇÃO 2020'] == 'Não']\n",
        "comercializada = datasetMed[datasetMed['COMERCIALIZAÇÃO 2020'] == 'Sim']\n",
        "Total = datasetMed['COMERCIALIZAÇÃO 2020'].count()\n",
        "\n",
        "\n",
        "naoComercializada = naoComercializada['COMERCIALIZAÇÃO 2020'].count()\n",
        "comercializada = comercializada['COMERCIALIZAÇÃO 2020'].count()\n",
        "\n",
        "Ncomer = (naoComercializada/Total)*100\n",
        "comer = (comercializada/Total)*100\n",
        "\n",
        "print('Porcentagem Negada = {:.2f}% '.format(Ncomer))\n",
        "print('Porcentagem Aceita = {:.2f}%'.format(comer))"
      ],
      "metadata": {
        "id": "l17TAQmJ03xy",
        "colab": {
          "base_uri": "https://localhost:8080/"
        },
        "outputId": "73cf0d7d-cfae-4017-b034-25cfa74b411b"
      },
      "execution_count": 46,
      "outputs": [
        {
          "output_type": "stream",
          "name": "stdout",
          "text": [
            "Porcentagem Negada = 53.38% \n",
            "Porcentagem Aceita = 46.62%\n"
          ]
        }
      ]
    },
    {
      "cell_type": "markdown",
      "source": [
        "###**15**- Qual a média de preço de fábrica sem imposto dos antidepressivos?"
      ],
      "metadata": {
        "id": "rviQ4cFz5kPo"
      }
    },
    {
      "cell_type": "code",
      "source": [
        "antidepressivo = datasetMed[datasetMed['CLASSE TERAPÊUTICA'].str.contains('ANTIDEPRESSIVOS')]\n",
        "antidepressivo[['CLASSE TERAPÊUTICA', 'PF Sem Impostos']]"
      ],
      "metadata": {
        "colab": {
          "base_uri": "https://localhost:8080/",
          "height": 424
        },
        "id": "OtEkNR1cEOW_",
        "outputId": "f58d5e9c-7f0e-400c-a2d0-0aed2a39710a"
      },
      "execution_count": 47,
      "outputs": [
        {
          "output_type": "execute_result",
          "data": {
            "text/plain": [
              "                              CLASSE TERAPÊUTICA  PF Sem Impostos\n",
              "14                   N6A4 - ANTIDEPRESSIVOS SSRI            43.60\n",
              "20                   N6A4 - ANTIDEPRESSIVOS SSRI            42.65\n",
              "24                   N6A4 - ANTIDEPRESSIVOS SSRI            47.56\n",
              "25        N6A9 - ANTIDEPRESSIVOS TODOS OS OUTROS            63.45\n",
              "26        N6A9 - ANTIDEPRESSIVOS TODOS OS OUTROS            90.18\n",
              "...                                          ...              ...\n",
              "26436     N6A9 - ANTIDEPRESSIVOS TODOS OS OUTROS            10.00\n",
              "26437     N6A9 - ANTIDEPRESSIVOS TODOS OS OUTROS            34.84\n",
              "26713                N6A4 - ANTIDEPRESSIVOS SSRI            53.79\n",
              "26774  N6A2 - ANTIDEPRESSIVOS DE ORIGEM HERBÁCEA            30.57\n",
              "26801  N6A2 - ANTIDEPRESSIVOS DE ORIGEM HERBÁCEA            31.25\n",
              "\n",
              "[1359 rows x 2 columns]"
            ],
            "text/html": [
              "\n",
              "  <div id=\"df-110c0ae6-5096-4dad-86d8-3afd9ea9710f\">\n",
              "    <div class=\"colab-df-container\">\n",
              "      <div>\n",
              "<style scoped>\n",
              "    .dataframe tbody tr th:only-of-type {\n",
              "        vertical-align: middle;\n",
              "    }\n",
              "\n",
              "    .dataframe tbody tr th {\n",
              "        vertical-align: top;\n",
              "    }\n",
              "\n",
              "    .dataframe thead th {\n",
              "        text-align: right;\n",
              "    }\n",
              "</style>\n",
              "<table border=\"1\" class=\"dataframe\">\n",
              "  <thead>\n",
              "    <tr style=\"text-align: right;\">\n",
              "      <th></th>\n",
              "      <th>CLASSE TERAPÊUTICA</th>\n",
              "      <th>PF Sem Impostos</th>\n",
              "    </tr>\n",
              "  </thead>\n",
              "  <tbody>\n",
              "    <tr>\n",
              "      <th>14</th>\n",
              "      <td>N6A4 - ANTIDEPRESSIVOS SSRI</td>\n",
              "      <td>43.60</td>\n",
              "    </tr>\n",
              "    <tr>\n",
              "      <th>20</th>\n",
              "      <td>N6A4 - ANTIDEPRESSIVOS SSRI</td>\n",
              "      <td>42.65</td>\n",
              "    </tr>\n",
              "    <tr>\n",
              "      <th>24</th>\n",
              "      <td>N6A4 - ANTIDEPRESSIVOS SSRI</td>\n",
              "      <td>47.56</td>\n",
              "    </tr>\n",
              "    <tr>\n",
              "      <th>25</th>\n",
              "      <td>N6A9 - ANTIDEPRESSIVOS TODOS OS OUTROS</td>\n",
              "      <td>63.45</td>\n",
              "    </tr>\n",
              "    <tr>\n",
              "      <th>26</th>\n",
              "      <td>N6A9 - ANTIDEPRESSIVOS TODOS OS OUTROS</td>\n",
              "      <td>90.18</td>\n",
              "    </tr>\n",
              "    <tr>\n",
              "      <th>...</th>\n",
              "      <td>...</td>\n",
              "      <td>...</td>\n",
              "    </tr>\n",
              "    <tr>\n",
              "      <th>26436</th>\n",
              "      <td>N6A9 - ANTIDEPRESSIVOS TODOS OS OUTROS</td>\n",
              "      <td>10.00</td>\n",
              "    </tr>\n",
              "    <tr>\n",
              "      <th>26437</th>\n",
              "      <td>N6A9 - ANTIDEPRESSIVOS TODOS OS OUTROS</td>\n",
              "      <td>34.84</td>\n",
              "    </tr>\n",
              "    <tr>\n",
              "      <th>26713</th>\n",
              "      <td>N6A4 - ANTIDEPRESSIVOS SSRI</td>\n",
              "      <td>53.79</td>\n",
              "    </tr>\n",
              "    <tr>\n",
              "      <th>26774</th>\n",
              "      <td>N6A2 - ANTIDEPRESSIVOS DE ORIGEM HERBÁCEA</td>\n",
              "      <td>30.57</td>\n",
              "    </tr>\n",
              "    <tr>\n",
              "      <th>26801</th>\n",
              "      <td>N6A2 - ANTIDEPRESSIVOS DE ORIGEM HERBÁCEA</td>\n",
              "      <td>31.25</td>\n",
              "    </tr>\n",
              "  </tbody>\n",
              "</table>\n",
              "<p>1359 rows × 2 columns</p>\n",
              "</div>\n",
              "      <button class=\"colab-df-convert\" onclick=\"convertToInteractive('df-110c0ae6-5096-4dad-86d8-3afd9ea9710f')\"\n",
              "              title=\"Convert this dataframe to an interactive table.\"\n",
              "              style=\"display:none;\">\n",
              "        \n",
              "  <svg xmlns=\"http://www.w3.org/2000/svg\" height=\"24px\"viewBox=\"0 0 24 24\"\n",
              "       width=\"24px\">\n",
              "    <path d=\"M0 0h24v24H0V0z\" fill=\"none\"/>\n",
              "    <path d=\"M18.56 5.44l.94 2.06.94-2.06 2.06-.94-2.06-.94-.94-2.06-.94 2.06-2.06.94zm-11 1L8.5 8.5l.94-2.06 2.06-.94-2.06-.94L8.5 2.5l-.94 2.06-2.06.94zm10 10l.94 2.06.94-2.06 2.06-.94-2.06-.94-.94-2.06-.94 2.06-2.06.94z\"/><path d=\"M17.41 7.96l-1.37-1.37c-.4-.4-.92-.59-1.43-.59-.52 0-1.04.2-1.43.59L10.3 9.45l-7.72 7.72c-.78.78-.78 2.05 0 2.83L4 21.41c.39.39.9.59 1.41.59.51 0 1.02-.2 1.41-.59l7.78-7.78 2.81-2.81c.8-.78.8-2.07 0-2.86zM5.41 20L4 18.59l7.72-7.72 1.47 1.35L5.41 20z\"/>\n",
              "  </svg>\n",
              "      </button>\n",
              "      \n",
              "  <style>\n",
              "    .colab-df-container {\n",
              "      display:flex;\n",
              "      flex-wrap:wrap;\n",
              "      gap: 12px;\n",
              "    }\n",
              "\n",
              "    .colab-df-convert {\n",
              "      background-color: #E8F0FE;\n",
              "      border: none;\n",
              "      border-radius: 50%;\n",
              "      cursor: pointer;\n",
              "      display: none;\n",
              "      fill: #1967D2;\n",
              "      height: 32px;\n",
              "      padding: 0 0 0 0;\n",
              "      width: 32px;\n",
              "    }\n",
              "\n",
              "    .colab-df-convert:hover {\n",
              "      background-color: #E2EBFA;\n",
              "      box-shadow: 0px 1px 2px rgba(60, 64, 67, 0.3), 0px 1px 3px 1px rgba(60, 64, 67, 0.15);\n",
              "      fill: #174EA6;\n",
              "    }\n",
              "\n",
              "    [theme=dark] .colab-df-convert {\n",
              "      background-color: #3B4455;\n",
              "      fill: #D2E3FC;\n",
              "    }\n",
              "\n",
              "    [theme=dark] .colab-df-convert:hover {\n",
              "      background-color: #434B5C;\n",
              "      box-shadow: 0px 1px 3px 1px rgba(0, 0, 0, 0.15);\n",
              "      filter: drop-shadow(0px 1px 2px rgba(0, 0, 0, 0.3));\n",
              "      fill: #FFFFFF;\n",
              "    }\n",
              "  </style>\n",
              "\n",
              "      <script>\n",
              "        const buttonEl =\n",
              "          document.querySelector('#df-110c0ae6-5096-4dad-86d8-3afd9ea9710f button.colab-df-convert');\n",
              "        buttonEl.style.display =\n",
              "          google.colab.kernel.accessAllowed ? 'block' : 'none';\n",
              "\n",
              "        async function convertToInteractive(key) {\n",
              "          const element = document.querySelector('#df-110c0ae6-5096-4dad-86d8-3afd9ea9710f');\n",
              "          const dataTable =\n",
              "            await google.colab.kernel.invokeFunction('convertToInteractive',\n",
              "                                                     [key], {});\n",
              "          if (!dataTable) return;\n",
              "\n",
              "          const docLinkHtml = 'Like what you see? Visit the ' +\n",
              "            '<a target=\"_blank\" href=https://colab.research.google.com/notebooks/data_table.ipynb>data table notebook</a>'\n",
              "            + ' to learn more about interactive tables.';\n",
              "          element.innerHTML = '';\n",
              "          dataTable['output_type'] = 'display_data';\n",
              "          await google.colab.output.renderOutput(dataTable, element);\n",
              "          const docLink = document.createElement('div');\n",
              "          docLink.innerHTML = docLinkHtml;\n",
              "          element.appendChild(docLink);\n",
              "        }\n",
              "      </script>\n",
              "    </div>\n",
              "  </div>\n",
              "  "
            ]
          },
          "metadata": {},
          "execution_count": 47
        }
      ]
    },
    {
      "cell_type": "code",
      "source": [
        "mediaantidepressivo = antidepressivo['PF Sem Impostos'].mean()\n",
        "mediaantidepressivo"
      ],
      "metadata": {
        "id": "TDomTfpg5l8w",
        "colab": {
          "base_uri": "https://localhost:8080/"
        },
        "outputId": "921105bd-5dc3-4ade-8554-c10649b3ca40"
      },
      "execution_count": 48,
      "outputs": [
        {
          "output_type": "execute_result",
          "data": {
            "text/plain": [
              "197.28095658572485"
            ]
          },
          "metadata": {},
          "execution_count": 48
        }
      ]
    },
    {
      "cell_type": "markdown",
      "source": [
        "###**16**- Qual a diferença média de preço de fábrica entre antidepressivos e antipsicóticos?"
      ],
      "metadata": {
        "id": "2O7Hg9R3G92R"
      }
    },
    {
      "cell_type": "code",
      "source": [
        "antipsicotico = datasetMed[datasetMed['CLASSE TERAPÊUTICA'].str.contains('ANTIPSICÓTICO')]\n",
        "antipsicotico[['CLASSE TERAPÊUTICA', 'PF Sem Impostos']]"
      ],
      "metadata": {
        "colab": {
          "base_uri": "https://localhost:8080/",
          "height": 424
        },
        "id": "0yyG6uxvG_D6",
        "outputId": "20393781-7c83-4413-8c02-6d43d349bdb1"
      },
      "execution_count": 49,
      "outputs": [
        {
          "output_type": "execute_result",
          "data": {
            "text/plain": [
              "                   CLASSE TERAPÊUTICA  PF Sem Impostos\n",
              "52     N5A1 - ANTIPSICÓTICOS ATÍPICOS            98.89\n",
              "53     N5A1 - ANTIPSICÓTICOS ATÍPICOS           197.83\n",
              "187    N5A1 - ANTIPSICÓTICOS ATÍPICOS            55.66\n",
              "188    N5A1 - ANTIPSICÓTICOS ATÍPICOS           119.28\n",
              "189    N5A1 - ANTIPSICÓTICOS ATÍPICOS           198.80\n",
              "...                               ...              ...\n",
              "26705  N5A1 - ANTIPSICÓTICOS ATÍPICOS            40.86\n",
              "26813  N5A1 - ANTIPSICÓTICOS ATÍPICOS           164.38\n",
              "26814  N5A1 - ANTIPSICÓTICOS ATÍPICOS           352.40\n",
              "26815  N5A1 - ANTIPSICÓTICOS ATÍPICOS           586.56\n",
              "26816  N5A1 - ANTIPSICÓTICOS ATÍPICOS           273.71\n",
              "\n",
              "[817 rows x 2 columns]"
            ],
            "text/html": [
              "\n",
              "  <div id=\"df-dcfc6eed-e71f-47f0-951c-87da3a6f8c28\">\n",
              "    <div class=\"colab-df-container\">\n",
              "      <div>\n",
              "<style scoped>\n",
              "    .dataframe tbody tr th:only-of-type {\n",
              "        vertical-align: middle;\n",
              "    }\n",
              "\n",
              "    .dataframe tbody tr th {\n",
              "        vertical-align: top;\n",
              "    }\n",
              "\n",
              "    .dataframe thead th {\n",
              "        text-align: right;\n",
              "    }\n",
              "</style>\n",
              "<table border=\"1\" class=\"dataframe\">\n",
              "  <thead>\n",
              "    <tr style=\"text-align: right;\">\n",
              "      <th></th>\n",
              "      <th>CLASSE TERAPÊUTICA</th>\n",
              "      <th>PF Sem Impostos</th>\n",
              "    </tr>\n",
              "  </thead>\n",
              "  <tbody>\n",
              "    <tr>\n",
              "      <th>52</th>\n",
              "      <td>N5A1 - ANTIPSICÓTICOS ATÍPICOS</td>\n",
              "      <td>98.89</td>\n",
              "    </tr>\n",
              "    <tr>\n",
              "      <th>53</th>\n",
              "      <td>N5A1 - ANTIPSICÓTICOS ATÍPICOS</td>\n",
              "      <td>197.83</td>\n",
              "    </tr>\n",
              "    <tr>\n",
              "      <th>187</th>\n",
              "      <td>N5A1 - ANTIPSICÓTICOS ATÍPICOS</td>\n",
              "      <td>55.66</td>\n",
              "    </tr>\n",
              "    <tr>\n",
              "      <th>188</th>\n",
              "      <td>N5A1 - ANTIPSICÓTICOS ATÍPICOS</td>\n",
              "      <td>119.28</td>\n",
              "    </tr>\n",
              "    <tr>\n",
              "      <th>189</th>\n",
              "      <td>N5A1 - ANTIPSICÓTICOS ATÍPICOS</td>\n",
              "      <td>198.80</td>\n",
              "    </tr>\n",
              "    <tr>\n",
              "      <th>...</th>\n",
              "      <td>...</td>\n",
              "      <td>...</td>\n",
              "    </tr>\n",
              "    <tr>\n",
              "      <th>26705</th>\n",
              "      <td>N5A1 - ANTIPSICÓTICOS ATÍPICOS</td>\n",
              "      <td>40.86</td>\n",
              "    </tr>\n",
              "    <tr>\n",
              "      <th>26813</th>\n",
              "      <td>N5A1 - ANTIPSICÓTICOS ATÍPICOS</td>\n",
              "      <td>164.38</td>\n",
              "    </tr>\n",
              "    <tr>\n",
              "      <th>26814</th>\n",
              "      <td>N5A1 - ANTIPSICÓTICOS ATÍPICOS</td>\n",
              "      <td>352.40</td>\n",
              "    </tr>\n",
              "    <tr>\n",
              "      <th>26815</th>\n",
              "      <td>N5A1 - ANTIPSICÓTICOS ATÍPICOS</td>\n",
              "      <td>586.56</td>\n",
              "    </tr>\n",
              "    <tr>\n",
              "      <th>26816</th>\n",
              "      <td>N5A1 - ANTIPSICÓTICOS ATÍPICOS</td>\n",
              "      <td>273.71</td>\n",
              "    </tr>\n",
              "  </tbody>\n",
              "</table>\n",
              "<p>817 rows × 2 columns</p>\n",
              "</div>\n",
              "      <button class=\"colab-df-convert\" onclick=\"convertToInteractive('df-dcfc6eed-e71f-47f0-951c-87da3a6f8c28')\"\n",
              "              title=\"Convert this dataframe to an interactive table.\"\n",
              "              style=\"display:none;\">\n",
              "        \n",
              "  <svg xmlns=\"http://www.w3.org/2000/svg\" height=\"24px\"viewBox=\"0 0 24 24\"\n",
              "       width=\"24px\">\n",
              "    <path d=\"M0 0h24v24H0V0z\" fill=\"none\"/>\n",
              "    <path d=\"M18.56 5.44l.94 2.06.94-2.06 2.06-.94-2.06-.94-.94-2.06-.94 2.06-2.06.94zm-11 1L8.5 8.5l.94-2.06 2.06-.94-2.06-.94L8.5 2.5l-.94 2.06-2.06.94zm10 10l.94 2.06.94-2.06 2.06-.94-2.06-.94-.94-2.06-.94 2.06-2.06.94z\"/><path d=\"M17.41 7.96l-1.37-1.37c-.4-.4-.92-.59-1.43-.59-.52 0-1.04.2-1.43.59L10.3 9.45l-7.72 7.72c-.78.78-.78 2.05 0 2.83L4 21.41c.39.39.9.59 1.41.59.51 0 1.02-.2 1.41-.59l7.78-7.78 2.81-2.81c.8-.78.8-2.07 0-2.86zM5.41 20L4 18.59l7.72-7.72 1.47 1.35L5.41 20z\"/>\n",
              "  </svg>\n",
              "      </button>\n",
              "      \n",
              "  <style>\n",
              "    .colab-df-container {\n",
              "      display:flex;\n",
              "      flex-wrap:wrap;\n",
              "      gap: 12px;\n",
              "    }\n",
              "\n",
              "    .colab-df-convert {\n",
              "      background-color: #E8F0FE;\n",
              "      border: none;\n",
              "      border-radius: 50%;\n",
              "      cursor: pointer;\n",
              "      display: none;\n",
              "      fill: #1967D2;\n",
              "      height: 32px;\n",
              "      padding: 0 0 0 0;\n",
              "      width: 32px;\n",
              "    }\n",
              "\n",
              "    .colab-df-convert:hover {\n",
              "      background-color: #E2EBFA;\n",
              "      box-shadow: 0px 1px 2px rgba(60, 64, 67, 0.3), 0px 1px 3px 1px rgba(60, 64, 67, 0.15);\n",
              "      fill: #174EA6;\n",
              "    }\n",
              "\n",
              "    [theme=dark] .colab-df-convert {\n",
              "      background-color: #3B4455;\n",
              "      fill: #D2E3FC;\n",
              "    }\n",
              "\n",
              "    [theme=dark] .colab-df-convert:hover {\n",
              "      background-color: #434B5C;\n",
              "      box-shadow: 0px 1px 3px 1px rgba(0, 0, 0, 0.15);\n",
              "      filter: drop-shadow(0px 1px 2px rgba(0, 0, 0, 0.3));\n",
              "      fill: #FFFFFF;\n",
              "    }\n",
              "  </style>\n",
              "\n",
              "      <script>\n",
              "        const buttonEl =\n",
              "          document.querySelector('#df-dcfc6eed-e71f-47f0-951c-87da3a6f8c28 button.colab-df-convert');\n",
              "        buttonEl.style.display =\n",
              "          google.colab.kernel.accessAllowed ? 'block' : 'none';\n",
              "\n",
              "        async function convertToInteractive(key) {\n",
              "          const element = document.querySelector('#df-dcfc6eed-e71f-47f0-951c-87da3a6f8c28');\n",
              "          const dataTable =\n",
              "            await google.colab.kernel.invokeFunction('convertToInteractive',\n",
              "                                                     [key], {});\n",
              "          if (!dataTable) return;\n",
              "\n",
              "          const docLinkHtml = 'Like what you see? Visit the ' +\n",
              "            '<a target=\"_blank\" href=https://colab.research.google.com/notebooks/data_table.ipynb>data table notebook</a>'\n",
              "            + ' to learn more about interactive tables.';\n",
              "          element.innerHTML = '';\n",
              "          dataTable['output_type'] = 'display_data';\n",
              "          await google.colab.output.renderOutput(dataTable, element);\n",
              "          const docLink = document.createElement('div');\n",
              "          docLink.innerHTML = docLinkHtml;\n",
              "          element.appendChild(docLink);\n",
              "        }\n",
              "      </script>\n",
              "    </div>\n",
              "  </div>\n",
              "  "
            ]
          },
          "metadata": {},
          "execution_count": 49
        }
      ]
    },
    {
      "cell_type": "code",
      "source": [
        "mediaantipsicotico = antipsicotico['PF Sem Impostos'].mean()\n",
        "mediaantipsicotico"
      ],
      "metadata": {
        "colab": {
          "base_uri": "https://localhost:8080/"
        },
        "id": "WNROCj8qIOSp",
        "outputId": "a6ebc10f-3087-474a-bb6a-ceb497b0ab11"
      },
      "execution_count": 50,
      "outputs": [
        {
          "output_type": "execute_result",
          "data": {
            "text/plain": [
              "475.14014687882496"
            ]
          },
          "metadata": {},
          "execution_count": 50
        }
      ]
    },
    {
      "cell_type": "code",
      "source": [
        "dif = mediaantipsicotico - mediaantidepressivo\n",
        "dif "
      ],
      "metadata": {
        "colab": {
          "base_uri": "https://localhost:8080/"
        },
        "id": "o9VB4j_IIQZ3",
        "outputId": "eb7cfd7c-498d-499c-c678-1e4eb3a1d7ec"
      },
      "execution_count": 51,
      "outputs": [
        {
          "output_type": "execute_result",
          "data": {
            "text/plain": [
              "277.85919029310014"
            ]
          },
          "metadata": {},
          "execution_count": 51
        }
      ]
    },
    {
      "cell_type": "markdown",
      "source": [
        "###**17)** Quais vacinas foram comercializadas em 2020"
      ],
      "metadata": {
        "id": "B2n4mUGpvWuR"
      }
    },
    {
      "cell_type": "code",
      "source": [
        "vacina = datasetMed[datasetMed['CLASSE TERAPÊUTICA'].str.contains('VACINA')]\n",
        "vacina = vacina[vacina['COMERCIALIZAÇÃO 2020'] == 'Sim']\n",
        "vacina = vacina[['CLASSE TERAPÊUTICA', 'COMERCIALIZAÇÃO 2020']]\n",
        "vacina['CLASSE TERAPÊUTICA'].unique()"
      ],
      "metadata": {
        "colab": {
          "base_uri": "https://localhost:8080/"
        },
        "id": "LLY6ajWZvbTn",
        "outputId": "20645909-8008-4fa1-bb47-364ff53b8704"
      },
      "execution_count": 52,
      "outputs": [
        {
          "output_type": "execute_result",
          "data": {
            "text/plain": [
              "array(['J7E1 - VACINA PARA GRIPE (INFLUENZA)',\n",
              "       'J7X - TODOS OS OUTROS PRODUTOS VACINAIS',\n",
              "       'J7D6 - VACINA CONTRA TUBERCULOSE',\n",
              "       'J7D2 - VACINAS MENINGOCÓCICAS', 'J7E4 - VACINA PARA HEPATITE',\n",
              "       'J7B1 - ASSOCIAÇÔES COM VACINA ANTITETÂNICA',\n",
              "       'J7D1 - VACINAS PARA PNEUMONIA',\n",
              "       'J7B2 - ASSOCIAÇÔES COM VACINA ANTI-SARAMPO E PAROTIDITE',\n",
              "       'J7E2 - VACINA CONTRA VARICELLA',\n",
              "       'J7E3 - VACINA CONTRA HPV (PAPILOMAVIRUS HUMANO)',\n",
              "       'J7E5 - VACINA CONTRA ROTAVÍRUS',\n",
              "       'J7E9 - TODAS OUTRAS VACINAS VIRAIS',\n",
              "       'J7D3 - VACINAS HAEMOPHILUS B',\n",
              "       'J7D4 - VACINA PARA FEBRE TIFÓIDE E PARATIFÓIDE'], dtype=object)"
            ]
          },
          "metadata": {},
          "execution_count": 52
        }
      ]
    },
    {
      "cell_type": "markdown",
      "source": [
        "###**18)** O quão disperso estão os dados do valor de fabricação e os valores de preço máximo ao consumidor (0% ICMS)?\n",
        "\n"
      ],
      "metadata": {
        "id": "g9FLbDDVyvgC"
      }
    },
    {
      "cell_type": "code",
      "source": [
        "datasetMed['PMC 0%'] = datasetMed['PMC 0%'].fillna(0)"
      ],
      "metadata": {
        "id": "pXrGocEa1xRI"
      },
      "execution_count": 53,
      "outputs": []
    },
    {
      "cell_type": "code",
      "source": [
        "\n",
        "datasetMed.plot.scatter(x = 'PMC 0%', y = 'PF Sem Impostos')\n",
        "plt.ylabel(\"PF Sem Impostos\")\n",
        "plt.xlabel(\"PMC 0%\")\n",
        "plt.show()"
      ],
      "metadata": {
        "colab": {
          "base_uri": "https://localhost:8080/",
          "height": 290
        },
        "id": "YP5km5KraJn7",
        "outputId": "7750e844-1579-4c77-c0b4-19f47114113c"
      },
      "execution_count": 54,
      "outputs": [
        {
          "output_type": "display_data",
          "data": {
            "text/plain": [
              "<Figure size 432x288 with 1 Axes>"
            ],
            "image/png": "[encoded data removed]"
          },
          "metadata": {
            "needs_background": "light"
          }
        }
      ]
    },
    {
      "cell_type": "markdown",
      "source": [
        "Com o gráfico acima podemos concluir que possuem uma dispersão muito grande entre os valores. Porém, possui uma concentração grande de valores entre 0 a 100000."
      ],
      "metadata": {
        "id": "yonHxoDyVkOw"
      }
    },
    {
      "cell_type": "markdown",
      "source": [
        "###**19)** Qual seria a média do preço de fabrica dos medicamentos de com tarja de venda livre(que não precisam de receita)?"
      ],
      "metadata": {
        "id": "lsFLN75X7qvs"
      }
    },
    {
      "cell_type": "code",
      "source": [
        "vendalivre = datasetMed[datasetMed['TARJA']=='Sem Tarja']\n",
        "media = vendalivre['PF 0%'].mean()\n",
        "media\n"
      ],
      "metadata": {
        "id": "wVUAaxzk7v-Y",
        "colab": {
          "base_uri": "https://localhost:8080/"
        },
        "outputId": "32c14ea4-dbe2-45f1-996f-613aeb8492fb"
      },
      "execution_count": 55,
      "outputs": [
        {
          "output_type": "execute_result",
          "data": {
            "text/plain": [
              "325.8834019524618"
            ]
          },
          "metadata": {},
          "execution_count": 55
        }
      ]
    },
    {
      "cell_type": "markdown",
      "source": [
        "###**20** - Qual tarja possui a maior frequência na base de dados?\n"
      ],
      "metadata": {
        "id": "lo0jOqheHMj2"
      }
    },
    {
      "cell_type": "code",
      "source": [
        "tarjas = datasetMed['TARJA'].value_counts()\n",
        "tarjas"
      ],
      "metadata": {
        "colab": {
          "base_uri": "https://localhost:8080/"
        },
        "id": "cezRosZWHUdl",
        "outputId": "cd8765dc-df88-4f5c-c031-5f8fd8b8292b"
      },
      "execution_count": 56,
      "outputs": [
        {
          "output_type": "execute_result",
          "data": {
            "text/plain": [
              "Tarja Vermelha    21934\n",
              "Sem Tarja          4712\n",
              "Tarja Preta         551\n",
              "Name: TARJA, dtype: int64"
            ]
          },
          "metadata": {},
          "execution_count": 56
        }
      ]
    },
    {
      "cell_type": "markdown",
      "source": [
        "A tarja que possui a maior frequência na base de dados utilizada é a Tarja vermelha - 21934."
      ],
      "metadata": {
        "id": "maUOYxQ7Od0d"
      }
    }
  ],
  "metadata": {
    "colab": {
      "name": "ProjetoCienciaDosDados.ipynb",
      "provenance": [],
      "collapsed_sections": []
    },
    "kernelspec": {
      "display_name": "Python 3",
      "name": "python3"
    },
    "language_info": {
      "name": "python"
    }
  },
  "nbformat": 4,
  "nbformat_minor": 0
}